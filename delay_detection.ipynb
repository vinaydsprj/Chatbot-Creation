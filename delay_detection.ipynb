{
 "cells": [
  {
   "cell_type": "markdown",
   "metadata": {
    "colab_type": "text",
    "id": "hoIvQtcvOiYB"
   },
   "source": [
    "##Reading Dataset"
   ]
  },
  {
   "cell_type": "code",
   "execution_count": 1,
   "metadata": {},
   "outputs": [],
   "source": [
    "\n",
    "import pandas as pd\n",
    "import numpy as np\n",
    "import matplotlib.pyplot as plt\n",
    "import seaborn as sns\n",
    "from sklearn.metrics import classification_report\n",
    "from sklearn import metrics\n",
    "from sklearn import tree\n"
   ]
  },
  {
   "cell_type": "code",
   "execution_count": 2,
   "metadata": {
    "colab": {
     "base_uri": "https://localhost:8080/",
     "height": 424
    },
    "colab_type": "code",
    "id": "t9DHU4au4lKN",
    "outputId": "4b5c8394-3135-4c26-f852-73f42aaa7f64"
   },
   "outputs": [
    {
     "data": {
      "text/html": [
       "<div>\n",
       "<style scoped>\n",
       "    .dataframe tbody tr th:only-of-type {\n",
       "        vertical-align: middle;\n",
       "    }\n",
       "\n",
       "    .dataframe tbody tr th {\n",
       "        vertical-align: top;\n",
       "    }\n",
       "\n",
       "    .dataframe thead th {\n",
       "        text-align: right;\n",
       "    }\n",
       "</style>\n",
       "<table border=\"1\" class=\"dataframe\">\n",
       "  <thead>\n",
       "    <tr style=\"text-align: right;\">\n",
       "      <th></th>\n",
       "      <th>Unnamed: 0</th>\n",
       "      <th>tiploc</th>\n",
       "      <th>dst_loc</th>\n",
       "      <th>Train NO.</th>\n",
       "      <th>DAY</th>\n",
       "      <th>min_delay</th>\n",
       "    </tr>\n",
       "  </thead>\n",
       "  <tbody>\n",
       "    <tr>\n",
       "      <th>0</th>\n",
       "      <td>0</td>\n",
       "      <td>WEYMTH</td>\n",
       "      <td>UPWEY</td>\n",
       "      <td>8734176</td>\n",
       "      <td>Sunday</td>\n",
       "      <td>0</td>\n",
       "    </tr>\n",
       "    <tr>\n",
       "      <th>1</th>\n",
       "      <td>1</td>\n",
       "      <td>UPWEY</td>\n",
       "      <td>DRCHJN</td>\n",
       "      <td>8734176</td>\n",
       "      <td>Sunday</td>\n",
       "      <td>1</td>\n",
       "    </tr>\n",
       "    <tr>\n",
       "      <th>2</th>\n",
       "      <td>2</td>\n",
       "      <td>DRCHJN</td>\n",
       "      <td>DRCHS</td>\n",
       "      <td>8734176</td>\n",
       "      <td>Sunday</td>\n",
       "      <td>0</td>\n",
       "    </tr>\n",
       "    <tr>\n",
       "      <th>3</th>\n",
       "      <td>3</td>\n",
       "      <td>DRCHS</td>\n",
       "      <td>MORETON</td>\n",
       "      <td>8734176</td>\n",
       "      <td>Sunday</td>\n",
       "      <td>0</td>\n",
       "    </tr>\n",
       "    <tr>\n",
       "      <th>4</th>\n",
       "      <td>4</td>\n",
       "      <td>MORETON</td>\n",
       "      <td>WOOL</td>\n",
       "      <td>8734176</td>\n",
       "      <td>Sunday</td>\n",
       "      <td>0</td>\n",
       "    </tr>\n",
       "    <tr>\n",
       "      <th>...</th>\n",
       "      <td>...</td>\n",
       "      <td>...</td>\n",
       "      <td>...</td>\n",
       "      <td>...</td>\n",
       "      <td>...</td>\n",
       "      <td>...</td>\n",
       "    </tr>\n",
       "    <tr>\n",
       "      <th>142119</th>\n",
       "      <td>142119</td>\n",
       "      <td>HCRTJN</td>\n",
       "      <td>SURBITN</td>\n",
       "      <td>8717244</td>\n",
       "      <td>Wednesday</td>\n",
       "      <td>0</td>\n",
       "    </tr>\n",
       "    <tr>\n",
       "      <th>142120</th>\n",
       "      <td>142120</td>\n",
       "      <td>SURBITN</td>\n",
       "      <td>BRLANDS</td>\n",
       "      <td>8717244</td>\n",
       "      <td>Wednesday</td>\n",
       "      <td>0</td>\n",
       "    </tr>\n",
       "    <tr>\n",
       "      <th>142121</th>\n",
       "      <td>142121</td>\n",
       "      <td>BRLANDS</td>\n",
       "      <td>NEWMLDN</td>\n",
       "      <td>8717244</td>\n",
       "      <td>Wednesday</td>\n",
       "      <td>0</td>\n",
       "    </tr>\n",
       "    <tr>\n",
       "      <th>142122</th>\n",
       "      <td>142122</td>\n",
       "      <td>NEWMLDN</td>\n",
       "      <td>RAYNSPK</td>\n",
       "      <td>8717244</td>\n",
       "      <td>Wednesday</td>\n",
       "      <td>0</td>\n",
       "    </tr>\n",
       "    <tr>\n",
       "      <th>142123</th>\n",
       "      <td>142123</td>\n",
       "      <td>RAYNSPK</td>\n",
       "      <td>WEYMTH</td>\n",
       "      <td>8717244</td>\n",
       "      <td>NaN</td>\n",
       "      <td>0</td>\n",
       "    </tr>\n",
       "  </tbody>\n",
       "</table>\n",
       "<p>142124 rows × 6 columns</p>\n",
       "</div>"
      ],
      "text/plain": [
       "        Unnamed: 0   tiploc  dst_loc  Train NO.        DAY  min_delay\n",
       "0                0   WEYMTH    UPWEY    8734176     Sunday          0\n",
       "1                1    UPWEY   DRCHJN    8734176     Sunday          1\n",
       "2                2   DRCHJN    DRCHS    8734176     Sunday          0\n",
       "3                3    DRCHS  MORETON    8734176     Sunday          0\n",
       "4                4  MORETON     WOOL    8734176     Sunday          0\n",
       "...            ...      ...      ...        ...        ...        ...\n",
       "142119      142119   HCRTJN  SURBITN    8717244  Wednesday          0\n",
       "142120      142120  SURBITN  BRLANDS    8717244  Wednesday          0\n",
       "142121      142121  BRLANDS  NEWMLDN    8717244  Wednesday          0\n",
       "142122      142122  NEWMLDN  RAYNSPK    8717244  Wednesday          0\n",
       "142123      142123  RAYNSPK   WEYMTH    8717244        NaN          0\n",
       "\n",
       "[142124 rows x 6 columns]"
      ]
     },
     "execution_count": 2,
     "metadata": {},
     "output_type": "execute_result"
    }
   ],
   "source": [
    "\n",
    "df = pd.read_csv('main_dataset.csv',na_values='=')\n",
    "df"
   ]
  },
  {
   "cell_type": "code",
   "execution_count": null,
   "metadata": {},
   "outputs": [],
   "source": []
  },
  {
   "cell_type": "code",
   "execution_count": 3,
   "metadata": {},
   "outputs": [
    {
     "name": "stdout",
     "output_type": "stream",
     "text": [
      "<class 'pandas.core.frame.DataFrame'>\n",
      "RangeIndex: 142124 entries, 0 to 142123\n",
      "Data columns (total 6 columns):\n",
      " #   Column      Non-Null Count   Dtype \n",
      "---  ------      --------------   ----- \n",
      " 0   Unnamed: 0  142124 non-null  int64 \n",
      " 1   tiploc      142124 non-null  object\n",
      " 2   dst_loc     142124 non-null  object\n",
      " 3   Train NO.   142124 non-null  int64 \n",
      " 4   DAY         142123 non-null  object\n",
      " 5   min_delay   142124 non-null  int64 \n",
      "dtypes: int64(3), object(3)\n",
      "memory usage: 6.5+ MB\n"
     ]
    }
   ],
   "source": [
    "df.info()"
   ]
  },
  {
   "cell_type": "code",
   "execution_count": 4,
   "metadata": {},
   "outputs": [
    {
     "data": {
      "text/plain": [
       "Unnamed: 0    0\n",
       "tiploc        0\n",
       "dst_loc       0\n",
       "Train NO.     0\n",
       "DAY           1\n",
       "min_delay     0\n",
       "dtype: int64"
      ]
     },
     "execution_count": 4,
     "metadata": {},
     "output_type": "execute_result"
    }
   ],
   "source": [
    "df.isnull().sum()  "
   ]
  },
  {
   "cell_type": "code",
   "execution_count": 5,
   "metadata": {},
   "outputs": [
    {
     "data": {
      "text/html": [
       "<div>\n",
       "<style scoped>\n",
       "    .dataframe tbody tr th:only-of-type {\n",
       "        vertical-align: middle;\n",
       "    }\n",
       "\n",
       "    .dataframe tbody tr th {\n",
       "        vertical-align: top;\n",
       "    }\n",
       "\n",
       "    .dataframe thead th {\n",
       "        text-align: right;\n",
       "    }\n",
       "</style>\n",
       "<table border=\"1\" class=\"dataframe\">\n",
       "  <thead>\n",
       "    <tr style=\"text-align: right;\">\n",
       "      <th></th>\n",
       "      <th>Unnamed: 0</th>\n",
       "      <th>tiploc</th>\n",
       "      <th>dst_loc</th>\n",
       "      <th>Train NO.</th>\n",
       "      <th>DAY</th>\n",
       "      <th>min_delay</th>\n",
       "    </tr>\n",
       "  </thead>\n",
       "  <tbody>\n",
       "    <tr>\n",
       "      <th>0</th>\n",
       "      <td>0</td>\n",
       "      <td>WEYMTH</td>\n",
       "      <td>UPWEY</td>\n",
       "      <td>8734176</td>\n",
       "      <td>Sunday</td>\n",
       "      <td>0</td>\n",
       "    </tr>\n",
       "    <tr>\n",
       "      <th>1</th>\n",
       "      <td>1</td>\n",
       "      <td>UPWEY</td>\n",
       "      <td>DRCHJN</td>\n",
       "      <td>8734176</td>\n",
       "      <td>Sunday</td>\n",
       "      <td>1</td>\n",
       "    </tr>\n",
       "    <tr>\n",
       "      <th>2</th>\n",
       "      <td>2</td>\n",
       "      <td>DRCHJN</td>\n",
       "      <td>DRCHS</td>\n",
       "      <td>8734176</td>\n",
       "      <td>Sunday</td>\n",
       "      <td>0</td>\n",
       "    </tr>\n",
       "    <tr>\n",
       "      <th>3</th>\n",
       "      <td>3</td>\n",
       "      <td>DRCHS</td>\n",
       "      <td>MORETON</td>\n",
       "      <td>8734176</td>\n",
       "      <td>Sunday</td>\n",
       "      <td>0</td>\n",
       "    </tr>\n",
       "    <tr>\n",
       "      <th>4</th>\n",
       "      <td>4</td>\n",
       "      <td>MORETON</td>\n",
       "      <td>WOOL</td>\n",
       "      <td>8734176</td>\n",
       "      <td>Sunday</td>\n",
       "      <td>0</td>\n",
       "    </tr>\n",
       "    <tr>\n",
       "      <th>5</th>\n",
       "      <td>5</td>\n",
       "      <td>WOOL</td>\n",
       "      <td>WARHAM</td>\n",
       "      <td>8734176</td>\n",
       "      <td>Sunday</td>\n",
       "      <td>0</td>\n",
       "    </tr>\n",
       "  </tbody>\n",
       "</table>\n",
       "</div>"
      ],
      "text/plain": [
       "   Unnamed: 0   tiploc  dst_loc  Train NO.     DAY  min_delay\n",
       "0           0   WEYMTH    UPWEY    8734176  Sunday          0\n",
       "1           1    UPWEY   DRCHJN    8734176  Sunday          1\n",
       "2           2   DRCHJN    DRCHS    8734176  Sunday          0\n",
       "3           3    DRCHS  MORETON    8734176  Sunday          0\n",
       "4           4  MORETON     WOOL    8734176  Sunday          0\n",
       "5           5     WOOL   WARHAM    8734176  Sunday          0"
      ]
     },
     "execution_count": 5,
     "metadata": {},
     "output_type": "execute_result"
    }
   ],
   "source": [
    "df.head(6)"
   ]
  },
  {
   "cell_type": "code",
   "execution_count": 6,
   "metadata": {},
   "outputs": [
    {
     "data": {
      "text/plain": [
       "Index(['Unnamed: 0', 'tiploc', 'dst_loc', 'Train NO.', 'DAY', 'min_delay'], dtype='object')"
      ]
     },
     "execution_count": 6,
     "metadata": {},
     "output_type": "execute_result"
    }
   ],
   "source": [
    "df.columns"
   ]
  },
  {
   "cell_type": "code",
   "execution_count": 7,
   "metadata": {},
   "outputs": [],
   "source": [
    "data2=df.copy()"
   ]
  },
  {
   "cell_type": "code",
   "execution_count": 8,
   "metadata": {},
   "outputs": [
    {
     "data": {
      "text/plain": [
       "{'GLHM': 0,\n",
       " 'ADLESTN': 1,\n",
       " 'TWCKNMJ': 2,\n",
       " 'YOVILPM': 3,\n",
       " 'EPUTNEY': 4,\n",
       " 'FRNBRCE': 5,\n",
       " 'NETLEY': 6,\n",
       " 'RWLNDSC': 7,\n",
       " 'BDHMPTN': 8,\n",
       " 'RAYNSPK': 9,\n",
       " 'WOKING': 10,\n",
       " 'TOTTON': 11,\n",
       " 'SWNWICK': 12,\n",
       " 'BYFLANH': 13,\n",
       " 'OXSHOTT': 14,\n",
       " 'BRKWOOD': 15,\n",
       " 'THFORD': 16,\n",
       " 'ANDOVER': 17,\n",
       " 'HMBLE': 18,\n",
       " 'WONT': 19,\n",
       " 'MDNNWTN': 20,\n",
       " 'FELTHMJ': 21,\n",
       " 'NSHEEN': 22,\n",
       " 'EGHAM': 23,\n",
       " 'POINTPJ': 24,\n",
       " 'SHERBRN': 25,\n",
       " 'CBHMSDA': 26,\n",
       " 'LISS': 27,\n",
       " 'DRCHJN': 28,\n",
       " 'COSHAM': 29,\n",
       " 'WBYFLET': 30,\n",
       " 'LYNDHRD': 31,\n",
       " 'MRTLKE': 32,\n",
       " 'ADLESTJ': 33,\n",
       " 'SLSBRY': 34,\n",
       " 'BLIEURD': 35,\n",
       " 'WALRSAL': 36,\n",
       " 'FRBRMN': 37,\n",
       " 'SURBITN': 38,\n",
       " 'WDNPK': 39,\n",
       " 'WLNDNJW': 40,\n",
       " 'HAVANT': 41,\n",
       " 'WITLEY': 42,\n",
       " 'SHALFDJ': 43,\n",
       " 'LIPHOOK': 44,\n",
       " 'EFNGHMJ': 45,\n",
       " 'GDLMING': 46,\n",
       " 'NINELMJ': 47,\n",
       " 'TISBURY': 48,\n",
       " 'BRANKSM': 49,\n",
       " 'SLSBTJN': 50,\n",
       " 'SHAWFD': 51,\n",
       " 'STDENYS': 52,\n",
       " 'BNTFORD': 53,\n",
       " 'TMPCMB': 54,\n",
       " 'STMGTS': 55,\n",
       " 'GRATELY': 56,\n",
       " 'WILTON': 57,\n",
       " 'BOMO': 58,\n",
       " 'CHETNOL': 59,\n",
       " 'COSHAMJ': 60,\n",
       " 'FELTHAM': 61,\n",
       " 'UPWEY': 62,\n",
       " 'MLFORD': 63,\n",
       " 'DRCHW': 64,\n",
       " 'NMILTON': 65,\n",
       " 'BKNHRST': 66,\n",
       " 'FLEET': 67,\n",
       " 'GUILDFD': 68,\n",
       " 'CHRISTC': 69,\n",
       " 'PUTNEY': 70,\n",
       " 'DRCHS': 71,\n",
       " 'VAUXHLM': 72,\n",
       " 'HCRTJN': 73,\n",
       " 'VRGNWTR': 74,\n",
       " 'WARHAM': 75,\n",
       " 'HOLTONH': 76,\n",
       " 'CLPHMJM': 77,\n",
       " 'SWYTHLN': 78,\n",
       " 'ASFDMSX': 79,\n",
       " 'OVTN': 80,\n",
       " 'HASLEMR': 81,\n",
       " 'BRLANDS': 82,\n",
       " 'PRBRITJ': 83,\n",
       " 'HOOK': 84,\n",
       " 'CLANDON': 85,\n",
       " 'TWCKNHM': 86,\n",
       " 'TISBRYL': 87,\n",
       " 'SOTPKWY': 88,\n",
       " 'MCHLDVR': 89,\n",
       " 'BURSLDN': 90,\n",
       " 'SOTON': 91,\n",
       " 'WRTINGJ': 92,\n",
       " 'MBRK': 93,\n",
       " 'FRNCMB': 94,\n",
       " 'WATRLMN': 95,\n",
       " 'PCHESTR': 96,\n",
       " 'WEYMTH': 97,\n",
       " 'RICHMND': 98,\n",
       " 'WOOL': 99,\n",
       " 'LRDGFD': 100,\n",
       " 'YTMNSTR': 101,\n",
       " 'POKSDWN': 102,\n",
       " 'CHTSEY': 103,\n",
       " 'WOLSTON': 104,\n",
       " 'BITERNE': 105,\n",
       " 'ERLFLD': 106,\n",
       " 'POOLE': 107,\n",
       " 'HRSLEY': 108,\n",
       " 'WDWTOWN': 109,\n",
       " 'WHTCHRH': 110,\n",
       " 'BSNGSTK': 111,\n",
       " 'NEWMLDN': 112,\n",
       " 'FRLNGTJ': 113,\n",
       " 'ELGH': 114,\n",
       " 'WRPLSDN': 115,\n",
       " 'CLYGATE': 116,\n",
       " 'WOKINGJ': 117,\n",
       " 'WNCFILD': 118,\n",
       " 'QTRDBAT': 119,\n",
       " 'REDBDGE': 120,\n",
       " 'CLPHMJW': 121,\n",
       " 'HMWTHY': 122,\n",
       " 'SWAY': 123,\n",
       " 'WILTONJ': 124,\n",
       " 'PTRSFLD': 125,\n",
       " 'WHTTONJ': 126,\n",
       " 'BARNES': 127,\n",
       " 'YOVILJN': 128,\n",
       " 'STAINES': 129,\n",
       " 'HNCHLYW': 130,\n",
       " 'HERSHAM': 131,\n",
       " 'PSTONE': 132,\n",
       " 'WNCHSTR': 133,\n",
       " 'WEYBDGE': 134,\n",
       " 'WDON': 135,\n",
       " 'ESHER': 136,\n",
       " 'NTHMJN': 137,\n",
       " 'HINTONA': 138,\n",
       " 'MORETON': 139,\n",
       " 'FAREHAM': 140,\n",
       " 'HOUNSLW': 141,\n",
       " 'SHOLING': 142}"
      ]
     },
     "execution_count": 8,
     "metadata": {},
     "output_type": "execute_result"
    }
   ],
   "source": [
    "dist=(data2['tiploc'])\n",
    "distset=set(dist)\n",
    "dd=list(distset)\n",
    "dictOfWords1 = { dd[i] : i  for i in range(0, len(dd) ) }\n",
    "data2['tiploc']=data2['tiploc'].map(dictOfWords1)\n",
    "dictOfWords1\n"
   ]
  },
  {
   "cell_type": "code",
   "execution_count": 9,
   "metadata": {},
   "outputs": [
    {
     "name": "stdout",
     "output_type": "stream",
     "text": [
      "True\n"
     ]
    }
   ],
   "source": [
    "import pickle\n",
    "\n",
    "with open('dictOfWords1.pickle', 'wb') as handle:\n",
    "    pickle.dump(dictOfWords1, handle, protocol=pickle.HIGHEST_PROTOCOL)\n",
    "\n",
    "with open('dictOfWords1.pickle', 'rb') as handle:\n",
    "    b = pickle.load(handle)\n",
    "\n",
    "print (dictOfWords1 == b)"
   ]
  },
  {
   "cell_type": "code",
   "execution_count": 10,
   "metadata": {},
   "outputs": [
    {
     "data": {
      "text/plain": [
       "{'GLHM': 0,\n",
       " 'ADLESTN': 1,\n",
       " 'TWCKNMJ': 2,\n",
       " 'YOVILPM': 3,\n",
       " 'EPUTNEY': 4,\n",
       " 'FRNBRCE': 5,\n",
       " 'NETLEY': 6,\n",
       " 'RWLNDSC': 7,\n",
       " 'BDHMPTN': 8,\n",
       " 'RAYNSPK': 9,\n",
       " 'WOKING': 10,\n",
       " 'TOTTON': 11,\n",
       " 'SWNWICK': 12,\n",
       " 'BYFLANH': 13,\n",
       " 'OXSHOTT': 14,\n",
       " 'BRKWOOD': 15,\n",
       " 'THFORD': 16,\n",
       " 'ANDOVER': 17,\n",
       " 'HMBLE': 18,\n",
       " 'WONT': 19,\n",
       " 'MDNNWTN': 20,\n",
       " 'FELTHMJ': 21,\n",
       " 'NSHEEN': 22,\n",
       " 'EGHAM': 23,\n",
       " 'POINTPJ': 24,\n",
       " 'SHERBRN': 25,\n",
       " 'CBHMSDA': 26,\n",
       " 'LISS': 27,\n",
       " 'DRCHJN': 28,\n",
       " 'COSHAM': 29,\n",
       " 'WBYFLET': 30,\n",
       " 'LYNDHRD': 31,\n",
       " 'MRTLKE': 32,\n",
       " 'ADLESTJ': 33,\n",
       " 'SLSBRY': 34,\n",
       " 'BLIEURD': 35,\n",
       " 'WALRSAL': 36,\n",
       " 'FRBRMN': 37,\n",
       " 'SURBITN': 38,\n",
       " 'WDNPK': 39,\n",
       " 'WLNDNJW': 40,\n",
       " 'HAVANT': 41,\n",
       " 'WITLEY': 42,\n",
       " 'SHALFDJ': 43,\n",
       " 'LIPHOOK': 44,\n",
       " 'EFNGHMJ': 45,\n",
       " 'GDLMING': 46,\n",
       " 'NINELMJ': 47,\n",
       " 'TISBURY': 48,\n",
       " 'BRANKSM': 49,\n",
       " 'SLSBTJN': 50,\n",
       " 'SHAWFD': 51,\n",
       " 'STDENYS': 52,\n",
       " 'BNTFORD': 53,\n",
       " 'TMPCMB': 54,\n",
       " 'STMGTS': 55,\n",
       " 'GRATELY': 56,\n",
       " 'WILTON': 57,\n",
       " 'BOMO': 58,\n",
       " 'CHETNOL': 59,\n",
       " 'COSHAMJ': 60,\n",
       " 'FELTHAM': 61,\n",
       " 'UPWEY': 62,\n",
       " 'MLFORD': 63,\n",
       " 'DRCHW': 64,\n",
       " 'NMILTON': 65,\n",
       " 'BKNHRST': 66,\n",
       " 'FLEET': 67,\n",
       " 'GUILDFD': 68,\n",
       " 'CHRISTC': 69,\n",
       " 'PUTNEY': 70,\n",
       " 'DRCHS': 71,\n",
       " 'VAUXHLM': 72,\n",
       " 'HCRTJN': 73,\n",
       " 'VRGNWTR': 74,\n",
       " 'WARHAM': 75,\n",
       " 'HOLTONH': 76,\n",
       " 'CLPHMJM': 77,\n",
       " 'SWYTHLN': 78,\n",
       " 'ASFDMSX': 79,\n",
       " 'OVTN': 80,\n",
       " 'HASLEMR': 81,\n",
       " 'BRLANDS': 82,\n",
       " 'PRBRITJ': 83,\n",
       " 'HOOK': 84,\n",
       " 'CLANDON': 85,\n",
       " 'TWCKNHM': 86,\n",
       " 'TISBRYL': 87,\n",
       " 'SOTPKWY': 88,\n",
       " 'MCHLDVR': 89,\n",
       " 'BURSLDN': 90,\n",
       " 'SOTON': 91,\n",
       " 'WRTINGJ': 92,\n",
       " 'MBRK': 93,\n",
       " 'FRNCMB': 94,\n",
       " 'WATRLMN': 95,\n",
       " 'PCHESTR': 96,\n",
       " 'WEYMTH': 97,\n",
       " 'RICHMND': 98,\n",
       " 'WOOL': 99,\n",
       " 'LRDGFD': 100,\n",
       " 'YTMNSTR': 101,\n",
       " 'POKSDWN': 102,\n",
       " 'CHTSEY': 103,\n",
       " 'WOLSTON': 104,\n",
       " 'BITERNE': 105,\n",
       " 'ERLFLD': 106,\n",
       " 'POOLE': 107,\n",
       " 'HRSLEY': 108,\n",
       " 'WDWTOWN': 109,\n",
       " 'WHTCHRH': 110,\n",
       " 'BSNGSTK': 111,\n",
       " 'NEWMLDN': 112,\n",
       " 'FRLNGTJ': 113,\n",
       " 'ELGH': 114,\n",
       " 'WRPLSDN': 115,\n",
       " 'CLYGATE': 116,\n",
       " 'WOKINGJ': 117,\n",
       " 'WNCFILD': 118,\n",
       " 'QTRDBAT': 119,\n",
       " 'REDBDGE': 120,\n",
       " 'CLPHMJW': 121,\n",
       " 'HMWTHY': 122,\n",
       " 'SWAY': 123,\n",
       " 'WILTONJ': 124,\n",
       " 'PTRSFLD': 125,\n",
       " 'WHTTONJ': 126,\n",
       " 'BARNES': 127,\n",
       " 'YOVILJN': 128,\n",
       " 'STAINES': 129,\n",
       " 'HNCHLYW': 130,\n",
       " 'HERSHAM': 131,\n",
       " 'PSTONE': 132,\n",
       " 'WNCHSTR': 133,\n",
       " 'WEYBDGE': 134,\n",
       " 'WDON': 135,\n",
       " 'ESHER': 136,\n",
       " 'NTHMJN': 137,\n",
       " 'HINTONA': 138,\n",
       " 'MORETON': 139,\n",
       " 'FAREHAM': 140,\n",
       " 'HOUNSLW': 141,\n",
       " 'SHOLING': 142}"
      ]
     },
     "execution_count": 10,
     "metadata": {},
     "output_type": "execute_result"
    }
   ],
   "source": [
    "dist=(data2['dst_loc'])\n",
    "distset=set(dist)\n",
    "dd=list(distset)\n",
    "dictOfWords2 = { dd[i] : i  for i in range(0, len(dd) ) }\n",
    "data2['dst_loc']=data2['dst_loc'].map(dictOfWords2)\n",
    "dictOfWords2"
   ]
  },
  {
   "cell_type": "code",
   "execution_count": 11,
   "metadata": {},
   "outputs": [],
   "source": [
    "with open('dictOfWords2.pickle', 'wb') as handle:\n",
    "    pickle.dump(dictOfWords2, handle, protocol=pickle.HIGHEST_PROTOCOL)"
   ]
  },
  {
   "cell_type": "code",
   "execution_count": 12,
   "metadata": {},
   "outputs": [
    {
     "data": {
      "text/plain": [
       "{8734208: 0,\n",
       " 8731649: 1,\n",
       " 8731648: 2,\n",
       " 8734211: 3,\n",
       " 8731651: 4,\n",
       " 8734212: 5,\n",
       " 8731654: 6,\n",
       " 8731652: 7,\n",
       " 8731655: 8,\n",
       " 8176634: 9,\n",
       " 8176642: 10,\n",
       " 8731659: 11,\n",
       " 8176644: 12,\n",
       " 8734201: 13,\n",
       " 8731662: 14,\n",
       " 8731663: 15,\n",
       " 8731664: 16,\n",
       " 8176648: 17,\n",
       " 8176650: 18,\n",
       " 8731667: 19,\n",
       " 8731668: 20,\n",
       " 8734227: 21,\n",
       " 8176638: 22,\n",
       " 8731671: 23,\n",
       " 8731672: 24,\n",
       " 8734231: 25,\n",
       " 8731674: 26,\n",
       " 8731675: 27,\n",
       " 8734232: 28,\n",
       " 8731677: 29,\n",
       " 8734237: 30,\n",
       " 8731679: 31,\n",
       " 8731678: 32,\n",
       " 8731681: 33,\n",
       " 8731680: 34,\n",
       " 8731683: 35,\n",
       " 8731684: 36,\n",
       " 8176640: 37,\n",
       " 8717312: 38,\n",
       " 8731687: 39,\n",
       " 8731688: 40,\n",
       " 8731689: 41,\n",
       " 8731691: 42,\n",
       " 8717315: 43,\n",
       " 8734257: 44,\n",
       " 8734258: 45,\n",
       " 8731700: 46,\n",
       " 8731701: 47,\n",
       " 8717316: 48,\n",
       " 8734265: 49,\n",
       " 8734269: 50,\n",
       " 8176646: 51,\n",
       " 8734272: 52,\n",
       " 8737345: 53,\n",
       " 8737346: 54,\n",
       " 8717318: 55,\n",
       " 8717321: 56,\n",
       " 8734289: 57,\n",
       " 8734290: 58,\n",
       " 8717322: 59,\n",
       " 8717222: 60,\n",
       " 8176652: 61,\n",
       " 8717325: 62,\n",
       " 8176654: 63,\n",
       " 7903855: 64,\n",
       " 8176656: 65,\n",
       " 8176657: 66,\n",
       " 8176658: 67,\n",
       " 8717333: 68,\n",
       " 8717334: 69,\n",
       " 8717335: 70,\n",
       " 8717336: 71,\n",
       " 7923357: 72,\n",
       " 7923358: 73,\n",
       " 7923359: 74,\n",
       " 7923360: 75,\n",
       " 7923361: 76,\n",
       " 7923362: 77,\n",
       " 7923363: 78,\n",
       " 7923364: 79,\n",
       " 7923365: 80,\n",
       " 7923366: 81,\n",
       " 7923367: 82,\n",
       " 7923368: 83,\n",
       " 7923369: 84,\n",
       " 7923370: 85,\n",
       " 7922874: 86,\n",
       " 8711370: 87,\n",
       " 8719570: 88,\n",
       " 8719571: 89,\n",
       " 8719572: 90,\n",
       " 8711383: 91,\n",
       " 8711388: 92,\n",
       " 8711408: 93,\n",
       " 8731380: 94,\n",
       " 8711415: 95,\n",
       " 8711419: 96,\n",
       " 8711421: 97,\n",
       " 8711424: 98,\n",
       " 8711431: 99,\n",
       " 8711441: 100,\n",
       " 8717304: 101,\n",
       " 8711451: 102,\n",
       " 8711461: 103,\n",
       " 8739117: 104,\n",
       " 8711471: 105,\n",
       " 8717305: 106,\n",
       " 8711481: 107,\n",
       " 8711492: 108,\n",
       " 8135689: 109,\n",
       " 8730454: 110,\n",
       " 8135691: 111,\n",
       " 7922525: 112,\n",
       " 7922526: 113,\n",
       " 7922527: 114,\n",
       " 7922528: 115,\n",
       " 7922529: 116,\n",
       " 8135693: 117,\n",
       " 7922530: 118,\n",
       " 7922531: 119,\n",
       " 8135695: 120,\n",
       " 7922542: 121,\n",
       " 7922543: 122,\n",
       " 7922544: 123,\n",
       " 7922545: 124,\n",
       " 7922546: 125,\n",
       " 7922547: 126,\n",
       " 8135697: 127,\n",
       " 8135698: 128,\n",
       " 7922555: 129,\n",
       " 8717308: 130,\n",
       " 7922556: 131,\n",
       " 8135699: 132,\n",
       " 8136080: 133,\n",
       " 8136083: 134,\n",
       " 8136085: 135,\n",
       " 8136087: 136,\n",
       " 8159128: 137,\n",
       " 8136089: 138,\n",
       " 8159130: 139,\n",
       " 8136091: 140,\n",
       " 8159132: 141,\n",
       " 8136093: 142,\n",
       " 8159134: 143,\n",
       " 8159136: 144,\n",
       " 8159138: 145,\n",
       " 8159140: 146,\n",
       " 8717221: 147,\n",
       " 8159142: 148,\n",
       " 8717223: 149,\n",
       " 8159144: 150,\n",
       " 8717225: 151,\n",
       " 8159146: 152,\n",
       " 8717220: 153,\n",
       " 8159148: 154,\n",
       " 8717228: 155,\n",
       " 8159150: 156,\n",
       " 8159151: 157,\n",
       " 8159152: 158,\n",
       " 8717224: 159,\n",
       " 8717229: 160,\n",
       " 8717234: 161,\n",
       " 8717233: 162,\n",
       " 8717237: 163,\n",
       " 7923121: 164,\n",
       " 7923122: 165,\n",
       " 8717241: 166,\n",
       " 8734140: 167,\n",
       " 8717244: 168,\n",
       " 8717245: 169,\n",
       " 8734144: 170,\n",
       " 8734145: 171,\n",
       " 8717248: 172,\n",
       " 8717249: 173,\n",
       " 8734148: 174,\n",
       " 8717253: 175,\n",
       " 8717254: 176,\n",
       " 8717250: 177,\n",
       " 8734152: 178,\n",
       " 8717257: 179,\n",
       " 8717258: 180,\n",
       " 8717311: 181,\n",
       " 8734157: 182,\n",
       " 8717262: 183,\n",
       " 8734160: 184,\n",
       " 8734161: 185,\n",
       " 8717265: 186,\n",
       " 8717266: 187,\n",
       " 8717269: 188,\n",
       " 8734166: 189,\n",
       " 8717270: 190,\n",
       " 8717272: 191,\n",
       " 8717273: 192,\n",
       " 8731647: 193,\n",
       " 8717277: 194,\n",
       " 8717278: 195,\n",
       " 8734175: 196,\n",
       " 8734176: 197,\n",
       " 8717281: 198,\n",
       " 8717282: 199,\n",
       " 8717300: 200,\n",
       " 8717286: 201,\n",
       " 8717287: 202,\n",
       " 8734186: 203,\n",
       " 8717290: 204,\n",
       " 8717291: 205,\n",
       " 8717295: 206,\n",
       " 8734192: 207,\n",
       " 8717296: 208,\n",
       " 8731634: 209,\n",
       " 8731635: 210,\n",
       " 8734196: 211,\n",
       " 8731637: 212,\n",
       " 8734198: 213,\n",
       " 8731639: 214,\n",
       " 8717299: 215,\n",
       " 8731641: 216,\n",
       " 8734202: 217,\n",
       " 8717307: 218,\n",
       " 8176636: 219,\n",
       " 8731645: 220,\n",
       " 8734206: 221,\n",
       " 8734207: 222}"
      ]
     },
     "execution_count": 12,
     "metadata": {},
     "output_type": "execute_result"
    }
   ],
   "source": [
    "dist=(data2['Train NO.'])\n",
    "distset=set(dist)\n",
    "dd=list(distset)\n",
    "dictOfWords3 = { dd[i] : i  for i in range(0, len(dd) ) }\n",
    "data2['Train NO.']=data2['Train NO.'].map(dictOfWords3)\n",
    "dictOfWords3"
   ]
  },
  {
   "cell_type": "code",
   "execution_count": 13,
   "metadata": {},
   "outputs": [],
   "source": [
    "with open('dictOfWords3.pickle', 'wb') as handle:\n",
    "    pickle.dump(dictOfWords3, handle, protocol=pickle.HIGHEST_PROTOCOL)"
   ]
  },
  {
   "cell_type": "code",
   "execution_count": 14,
   "metadata": {},
   "outputs": [
    {
     "data": {
      "text/plain": [
       "{nan: 0,\n",
       " 'Wednesday': 1,\n",
       " 'Thursday': 2,\n",
       " 'Tuesday': 3,\n",
       " 'Monday': 4,\n",
       " 'Saturday': 5,\n",
       " 'Friday': 6,\n",
       " 'Sunday': 7}"
      ]
     },
     "execution_count": 14,
     "metadata": {},
     "output_type": "execute_result"
    }
   ],
   "source": [
    "dist=(data2['DAY'])\n",
    "distset=set(dist)\n",
    "dd=list(distset)\n",
    "dictOfWords4 = { dd[i] : i  for i in range(0, len(dd) ) }\n",
    "data2['DAY']=data2['DAY'].map(dictOfWords4)\n",
    "dictOfWords4"
   ]
  },
  {
   "cell_type": "code",
   "execution_count": 15,
   "metadata": {},
   "outputs": [],
   "source": [
    "with open('dictOfWords4.pickle', 'wb') as handle:\n",
    "    pickle.dump(dictOfWords4, handle, protocol=pickle.HIGHEST_PROTOCOL)"
   ]
  },
  {
   "cell_type": "markdown",
   "metadata": {},
   "source": [
    "## "
   ]
  },
  {
   "cell_type": "code",
   "execution_count": 16,
   "metadata": {},
   "outputs": [
    {
     "data": {
      "text/html": [
       "<div>\n",
       "<style scoped>\n",
       "    .dataframe tbody tr th:only-of-type {\n",
       "        vertical-align: middle;\n",
       "    }\n",
       "\n",
       "    .dataframe tbody tr th {\n",
       "        vertical-align: top;\n",
       "    }\n",
       "\n",
       "    .dataframe thead th {\n",
       "        text-align: right;\n",
       "    }\n",
       "</style>\n",
       "<table border=\"1\" class=\"dataframe\">\n",
       "  <thead>\n",
       "    <tr style=\"text-align: right;\">\n",
       "      <th></th>\n",
       "      <th>Unnamed: 0</th>\n",
       "      <th>tiploc</th>\n",
       "      <th>dst_loc</th>\n",
       "      <th>Train NO.</th>\n",
       "      <th>DAY</th>\n",
       "      <th>min_delay</th>\n",
       "    </tr>\n",
       "  </thead>\n",
       "  <tbody>\n",
       "    <tr>\n",
       "      <th>0</th>\n",
       "      <td>0</td>\n",
       "      <td>97</td>\n",
       "      <td>62</td>\n",
       "      <td>197</td>\n",
       "      <td>7</td>\n",
       "      <td>0</td>\n",
       "    </tr>\n",
       "    <tr>\n",
       "      <th>1</th>\n",
       "      <td>1</td>\n",
       "      <td>62</td>\n",
       "      <td>28</td>\n",
       "      <td>197</td>\n",
       "      <td>7</td>\n",
       "      <td>1</td>\n",
       "    </tr>\n",
       "    <tr>\n",
       "      <th>2</th>\n",
       "      <td>2</td>\n",
       "      <td>28</td>\n",
       "      <td>71</td>\n",
       "      <td>197</td>\n",
       "      <td>7</td>\n",
       "      <td>0</td>\n",
       "    </tr>\n",
       "    <tr>\n",
       "      <th>3</th>\n",
       "      <td>3</td>\n",
       "      <td>71</td>\n",
       "      <td>139</td>\n",
       "      <td>197</td>\n",
       "      <td>7</td>\n",
       "      <td>0</td>\n",
       "    </tr>\n",
       "    <tr>\n",
       "      <th>4</th>\n",
       "      <td>4</td>\n",
       "      <td>139</td>\n",
       "      <td>99</td>\n",
       "      <td>197</td>\n",
       "      <td>7</td>\n",
       "      <td>0</td>\n",
       "    </tr>\n",
       "    <tr>\n",
       "      <th>...</th>\n",
       "      <td>...</td>\n",
       "      <td>...</td>\n",
       "      <td>...</td>\n",
       "      <td>...</td>\n",
       "      <td>...</td>\n",
       "      <td>...</td>\n",
       "    </tr>\n",
       "    <tr>\n",
       "      <th>142119</th>\n",
       "      <td>142119</td>\n",
       "      <td>73</td>\n",
       "      <td>38</td>\n",
       "      <td>168</td>\n",
       "      <td>1</td>\n",
       "      <td>0</td>\n",
       "    </tr>\n",
       "    <tr>\n",
       "      <th>142120</th>\n",
       "      <td>142120</td>\n",
       "      <td>38</td>\n",
       "      <td>82</td>\n",
       "      <td>168</td>\n",
       "      <td>1</td>\n",
       "      <td>0</td>\n",
       "    </tr>\n",
       "    <tr>\n",
       "      <th>142121</th>\n",
       "      <td>142121</td>\n",
       "      <td>82</td>\n",
       "      <td>112</td>\n",
       "      <td>168</td>\n",
       "      <td>1</td>\n",
       "      <td>0</td>\n",
       "    </tr>\n",
       "    <tr>\n",
       "      <th>142122</th>\n",
       "      <td>142122</td>\n",
       "      <td>112</td>\n",
       "      <td>9</td>\n",
       "      <td>168</td>\n",
       "      <td>1</td>\n",
       "      <td>0</td>\n",
       "    </tr>\n",
       "    <tr>\n",
       "      <th>142123</th>\n",
       "      <td>142123</td>\n",
       "      <td>9</td>\n",
       "      <td>97</td>\n",
       "      <td>168</td>\n",
       "      <td>0</td>\n",
       "      <td>0</td>\n",
       "    </tr>\n",
       "  </tbody>\n",
       "</table>\n",
       "<p>142124 rows × 6 columns</p>\n",
       "</div>"
      ],
      "text/plain": [
       "        Unnamed: 0  tiploc  dst_loc  Train NO.  DAY  min_delay\n",
       "0                0      97       62        197    7          0\n",
       "1                1      62       28        197    7          1\n",
       "2                2      28       71        197    7          0\n",
       "3                3      71      139        197    7          0\n",
       "4                4     139       99        197    7          0\n",
       "...            ...     ...      ...        ...  ...        ...\n",
       "142119      142119      73       38        168    1          0\n",
       "142120      142120      38       82        168    1          0\n",
       "142121      142121      82      112        168    1          0\n",
       "142122      142122     112        9        168    1          0\n",
       "142123      142123       9       97        168    0          0\n",
       "\n",
       "[142124 rows x 6 columns]"
      ]
     },
     "execution_count": 16,
     "metadata": {},
     "output_type": "execute_result"
    }
   ],
   "source": [
    "data2"
   ]
  },
  {
   "cell_type": "code",
   "execution_count": 17,
   "metadata": {},
   "outputs": [
    {
     "data": {
      "text/plain": [
       "<AxesSubplot:>"
      ]
     },
     "execution_count": 17,
     "metadata": {},
     "output_type": "execute_result"
    },
    {
     "data": {
      "image/png": "[encoded data removed]",
      "text/plain": [
       "<Figure size 432x288 with 2 Axes>"
      ]
     },
     "metadata": {
      "needs_background": "light"
     },
     "output_type": "display_data"
    }
   ],
   "source": [
    "sns.heatmap(data2.corr(),annot=True)"
   ]
  },
  {
   "cell_type": "code",
   "execution_count": 18,
   "metadata": {},
   "outputs": [
    {
     "data": {
      "image/png": "[encoded data removed]",
      "text/plain": [
       "<Figure size 1080x1080 with 2 Axes>"
      ]
     },
     "metadata": {
      "needs_background": "light"
     },
     "output_type": "display_data"
    }
   ],
   "source": [
    "import matplotlib.pyplot as plt\n",
    "import seaborn as sb\n",
    "\n",
    "C_mat = data2.corr()\n",
    "fig = plt.figure(figsize = (15,15))\n",
    "\n",
    "sb.heatmap(C_mat, vmax = .8, square = True)\n",
    "plt.show()"
   ]
  },
  {
   "cell_type": "code",
   "execution_count": 19,
   "metadata": {},
   "outputs": [
    {
     "data": {
      "text/html": [
       "<div>\n",
       "<style scoped>\n",
       "    .dataframe tbody tr th:only-of-type {\n",
       "        vertical-align: middle;\n",
       "    }\n",
       "\n",
       "    .dataframe tbody tr th {\n",
       "        vertical-align: top;\n",
       "    }\n",
       "\n",
       "    .dataframe thead th {\n",
       "        text-align: right;\n",
       "    }\n",
       "</style>\n",
       "<table border=\"1\" class=\"dataframe\">\n",
       "  <thead>\n",
       "    <tr style=\"text-align: right;\">\n",
       "      <th></th>\n",
       "      <th>Unnamed: 0</th>\n",
       "      <th>tiploc</th>\n",
       "      <th>dst_loc</th>\n",
       "      <th>Train NO.</th>\n",
       "      <th>DAY</th>\n",
       "      <th>min_delay</th>\n",
       "    </tr>\n",
       "  </thead>\n",
       "  <tbody>\n",
       "    <tr>\n",
       "      <th>0</th>\n",
       "      <td>0</td>\n",
       "      <td>97</td>\n",
       "      <td>62</td>\n",
       "      <td>197</td>\n",
       "      <td>7</td>\n",
       "      <td>0</td>\n",
       "    </tr>\n",
       "    <tr>\n",
       "      <th>1</th>\n",
       "      <td>1</td>\n",
       "      <td>62</td>\n",
       "      <td>28</td>\n",
       "      <td>197</td>\n",
       "      <td>7</td>\n",
       "      <td>1</td>\n",
       "    </tr>\n",
       "    <tr>\n",
       "      <th>2</th>\n",
       "      <td>2</td>\n",
       "      <td>28</td>\n",
       "      <td>71</td>\n",
       "      <td>197</td>\n",
       "      <td>7</td>\n",
       "      <td>0</td>\n",
       "    </tr>\n",
       "    <tr>\n",
       "      <th>3</th>\n",
       "      <td>3</td>\n",
       "      <td>71</td>\n",
       "      <td>139</td>\n",
       "      <td>197</td>\n",
       "      <td>7</td>\n",
       "      <td>0</td>\n",
       "    </tr>\n",
       "    <tr>\n",
       "      <th>4</th>\n",
       "      <td>4</td>\n",
       "      <td>139</td>\n",
       "      <td>99</td>\n",
       "      <td>197</td>\n",
       "      <td>7</td>\n",
       "      <td>0</td>\n",
       "    </tr>\n",
       "    <tr>\n",
       "      <th>5</th>\n",
       "      <td>5</td>\n",
       "      <td>99</td>\n",
       "      <td>75</td>\n",
       "      <td>197</td>\n",
       "      <td>7</td>\n",
       "      <td>0</td>\n",
       "    </tr>\n",
       "    <tr>\n",
       "      <th>6</th>\n",
       "      <td>6</td>\n",
       "      <td>75</td>\n",
       "      <td>76</td>\n",
       "      <td>197</td>\n",
       "      <td>7</td>\n",
       "      <td>0</td>\n",
       "    </tr>\n",
       "    <tr>\n",
       "      <th>7</th>\n",
       "      <td>7</td>\n",
       "      <td>76</td>\n",
       "      <td>122</td>\n",
       "      <td>197</td>\n",
       "      <td>7</td>\n",
       "      <td>0</td>\n",
       "    </tr>\n",
       "    <tr>\n",
       "      <th>8</th>\n",
       "      <td>8</td>\n",
       "      <td>122</td>\n",
       "      <td>107</td>\n",
       "      <td>197</td>\n",
       "      <td>7</td>\n",
       "      <td>1</td>\n",
       "    </tr>\n",
       "    <tr>\n",
       "      <th>9</th>\n",
       "      <td>9</td>\n",
       "      <td>107</td>\n",
       "      <td>132</td>\n",
       "      <td>197</td>\n",
       "      <td>7</td>\n",
       "      <td>1</td>\n",
       "    </tr>\n",
       "  </tbody>\n",
       "</table>\n",
       "</div>"
      ],
      "text/plain": [
       "   Unnamed: 0  tiploc  dst_loc  Train NO.  DAY  min_delay\n",
       "0           0      97       62        197    7          0\n",
       "1           1      62       28        197    7          1\n",
       "2           2      28       71        197    7          0\n",
       "3           3      71      139        197    7          0\n",
       "4           4     139       99        197    7          0\n",
       "5           5      99       75        197    7          0\n",
       "6           6      75       76        197    7          0\n",
       "7           7      76      122        197    7          0\n",
       "8           8     122      107        197    7          1\n",
       "9           9     107      132        197    7          1"
      ]
     },
     "execution_count": 19,
     "metadata": {},
     "output_type": "execute_result"
    }
   ],
   "source": [
    "data2.head(10)"
   ]
  },
  {
   "cell_type": "code",
   "execution_count": 20,
   "metadata": {},
   "outputs": [
    {
     "data": {
      "text/plain": [
       "Unnamed: 0    0\n",
       "tiploc        0\n",
       "dst_loc       0\n",
       "Train NO.     0\n",
       "DAY           0\n",
       "min_delay     0\n",
       "dtype: int64"
      ]
     },
     "execution_count": 20,
     "metadata": {},
     "output_type": "execute_result"
    }
   ],
   "source": [
    "data2.isnull().sum()"
   ]
  },
  {
   "cell_type": "code",
   "execution_count": 21,
   "metadata": {},
   "outputs": [
    {
     "data": {
      "text/html": [
       "<div>\n",
       "<style scoped>\n",
       "    .dataframe tbody tr th:only-of-type {\n",
       "        vertical-align: middle;\n",
       "    }\n",
       "\n",
       "    .dataframe tbody tr th {\n",
       "        vertical-align: top;\n",
       "    }\n",
       "\n",
       "    .dataframe thead th {\n",
       "        text-align: right;\n",
       "    }\n",
       "</style>\n",
       "<table border=\"1\" class=\"dataframe\">\n",
       "  <thead>\n",
       "    <tr style=\"text-align: right;\">\n",
       "      <th></th>\n",
       "      <th>Unnamed: 0</th>\n",
       "      <th>tiploc</th>\n",
       "      <th>dst_loc</th>\n",
       "      <th>Train NO.</th>\n",
       "      <th>DAY</th>\n",
       "      <th>min_delay</th>\n",
       "    </tr>\n",
       "  </thead>\n",
       "  <tbody>\n",
       "    <tr>\n",
       "      <th>count</th>\n",
       "      <td>142124.000000</td>\n",
       "      <td>142124.000000</td>\n",
       "      <td>142124.000000</td>\n",
       "      <td>142124.000000</td>\n",
       "      <td>142124.000000</td>\n",
       "      <td>142124.000000</td>\n",
       "    </tr>\n",
       "    <tr>\n",
       "      <th>mean</th>\n",
       "      <td>71061.500000</td>\n",
       "      <td>80.580796</td>\n",
       "      <td>80.580796</td>\n",
       "      <td>109.131737</td>\n",
       "      <td>3.790838</td>\n",
       "      <td>0.217880</td>\n",
       "    </tr>\n",
       "    <tr>\n",
       "      <th>std</th>\n",
       "      <td>41027.809166</td>\n",
       "      <td>38.862893</td>\n",
       "      <td>38.862893</td>\n",
       "      <td>78.594666</td>\n",
       "      <td>1.909286</td>\n",
       "      <td>0.626924</td>\n",
       "    </tr>\n",
       "    <tr>\n",
       "      <th>min</th>\n",
       "      <td>0.000000</td>\n",
       "      <td>0.000000</td>\n",
       "      <td>0.000000</td>\n",
       "      <td>0.000000</td>\n",
       "      <td>0.000000</td>\n",
       "      <td>0.000000</td>\n",
       "    </tr>\n",
       "    <tr>\n",
       "      <th>25%</th>\n",
       "      <td>35530.750000</td>\n",
       "      <td>51.000000</td>\n",
       "      <td>51.000000</td>\n",
       "      <td>33.000000</td>\n",
       "      <td>2.000000</td>\n",
       "      <td>0.000000</td>\n",
       "    </tr>\n",
       "    <tr>\n",
       "      <th>50%</th>\n",
       "      <td>71061.500000</td>\n",
       "      <td>79.000000</td>\n",
       "      <td>79.000000</td>\n",
       "      <td>101.000000</td>\n",
       "      <td>4.000000</td>\n",
       "      <td>0.000000</td>\n",
       "    </tr>\n",
       "    <tr>\n",
       "      <th>75%</th>\n",
       "      <td>106592.250000</td>\n",
       "      <td>114.000000</td>\n",
       "      <td>114.000000</td>\n",
       "      <td>188.000000</td>\n",
       "      <td>5.000000</td>\n",
       "      <td>0.000000</td>\n",
       "    </tr>\n",
       "    <tr>\n",
       "      <th>max</th>\n",
       "      <td>142123.000000</td>\n",
       "      <td>142.000000</td>\n",
       "      <td>142.000000</td>\n",
       "      <td>222.000000</td>\n",
       "      <td>7.000000</td>\n",
       "      <td>4.000000</td>\n",
       "    </tr>\n",
       "  </tbody>\n",
       "</table>\n",
       "</div>"
      ],
      "text/plain": [
       "          Unnamed: 0         tiploc        dst_loc      Train NO.  \\\n",
       "count  142124.000000  142124.000000  142124.000000  142124.000000   \n",
       "mean    71061.500000      80.580796      80.580796     109.131737   \n",
       "std     41027.809166      38.862893      38.862893      78.594666   \n",
       "min         0.000000       0.000000       0.000000       0.000000   \n",
       "25%     35530.750000      51.000000      51.000000      33.000000   \n",
       "50%     71061.500000      79.000000      79.000000     101.000000   \n",
       "75%    106592.250000     114.000000     114.000000     188.000000   \n",
       "max    142123.000000     142.000000     142.000000     222.000000   \n",
       "\n",
       "                 DAY      min_delay  \n",
       "count  142124.000000  142124.000000  \n",
       "mean        3.790838       0.217880  \n",
       "std         1.909286       0.626924  \n",
       "min         0.000000       0.000000  \n",
       "25%         2.000000       0.000000  \n",
       "50%         4.000000       0.000000  \n",
       "75%         5.000000       0.000000  \n",
       "max         7.000000       4.000000  "
      ]
     },
     "execution_count": 21,
     "metadata": {},
     "output_type": "execute_result"
    }
   ],
   "source": [
    "data2.describe()"
   ]
  },
  {
   "cell_type": "code",
   "execution_count": 22,
   "metadata": {},
   "outputs": [
    {
     "data": {
      "text/plain": [
       "Index(['Unnamed: 0', 'tiploc', 'dst_loc', 'Train NO.', 'DAY', 'min_delay'], dtype='object')"
      ]
     },
     "execution_count": 22,
     "metadata": {},
     "output_type": "execute_result"
    }
   ],
   "source": [
    "data2.columns"
   ]
  },
  {
   "cell_type": "code",
   "execution_count": 23,
   "metadata": {},
   "outputs": [],
   "source": [
    "data2=data2.drop(['Unnamed: 0'], axis=1)"
   ]
  },
  {
   "cell_type": "code",
   "execution_count": 24,
   "metadata": {},
   "outputs": [
    {
     "data": {
      "text/plain": [
       "Index(['tiploc', 'dst_loc', 'Train NO.', 'DAY', 'min_delay'], dtype='object')"
      ]
     },
     "execution_count": 24,
     "metadata": {},
     "output_type": "execute_result"
    }
   ],
   "source": [
    "data2.columns"
   ]
  },
  {
   "cell_type": "code",
   "execution_count": 25,
   "metadata": {},
   "outputs": [],
   "source": [
    "features = data2[['tiploc', 'dst_loc', 'Train NO.', 'DAY']]\n",
    "target = data2['min_delay']\n",
    "#features = df[['temperature', 'humidity', 'ph', 'rainfall']]\n",
    "labels = data2['min_delay']"
   ]
  },
  {
   "cell_type": "code",
   "execution_count": null,
   "metadata": {},
   "outputs": [],
   "source": []
  },
  {
   "cell_type": "code",
   "execution_count": 26,
   "metadata": {},
   "outputs": [],
   "source": [
    "# Splitting into train and test data\n",
    "\n",
    "from sklearn.model_selection import train_test_split\n",
    "Xtrain, Xtest, Ytrain, Ytest = train_test_split(features,target,test_size = 0.2,random_state =2)"
   ]
  },
  {
   "cell_type": "code",
   "execution_count": 27,
   "metadata": {},
   "outputs": [],
   "source": [
    "acc=[]\n",
    "model=[]"
   ]
  },
  {
   "cell_type": "code",
   "execution_count": 28,
   "metadata": {},
   "outputs": [
    {
     "name": "stdout",
     "output_type": "stream",
     "text": [
      "MSE = 0.3827113277452189\n",
      "MAE = 0.3555347779930118\n",
      "R2 Score = -26.35502183813447\n"
     ]
    }
   ],
   "source": [
    "   from sklearn.ensemble import RandomForestRegressor\n",
    "   regr = RandomForestRegressor(max_depth=2, random_state=0, n_estimators=100)\n",
    "   regr.fit(Xtrain,Ytrain)\n",
    "   b_pred = regr.predict(Xtest)\n",
    "\n",
    "   from sklearn.metrics import mean_squared_error as mse\n",
    "   from sklearn.metrics import mean_absolute_error as mae\n",
    "   from sklearn.metrics import r2_score\n",
    "\n",
    "   print('MSE =', mse(b_pred, Ytest))\n",
    "   print('MAE =', mae(b_pred, Ytest))\n",
    "   print('R2 Score =', r2_score(b_pred, Ytest))"
   ]
  },
  {
   "cell_type": "code",
   "execution_count": 29,
   "metadata": {},
   "outputs": [
    {
     "data": {
      "text/plain": [
       "array([0.23578737, 0.23578737, 0.23578737, ..., 0.23578737, 0.0876754 ,\n",
       "       0.23578737])"
      ]
     },
     "execution_count": 29,
     "metadata": {},
     "output_type": "execute_result"
    }
   ],
   "source": [
    "b_pred"
   ]
  },
  {
   "cell_type": "code",
   "execution_count": null,
   "metadata": {},
   "outputs": [],
   "source": []
  },
  {
   "cell_type": "code",
   "execution_count": 24,
   "metadata": {},
   "outputs": [
    {
     "name": "stdout",
     "output_type": "stream",
     "text": [
      "DecisionTrees's Accuracy is:  86.19876868953385\n"
     ]
    },
    {
     "name": "stderr",
     "output_type": "stream",
     "text": [
      "C:\\Users\\Admin\\Anaconda3\\envs\\leaf_disease\\lib\\site-packages\\sklearn\\metrics\\_classification.py:1221: UndefinedMetricWarning: Precision and F-score are ill-defined and being set to 0.0 in labels with no predicted samples. Use `zero_division` parameter to control this behavior.\n",
      "  _warn_prf(average, modifier, msg_start, len(result))\n"
     ]
    },
    {
     "name": "stdout",
     "output_type": "stream",
     "text": [
      "              precision    recall  f1-score   support\n",
      "\n",
      "           0       0.88      0.98      0.93     24219\n",
      "           1       0.55      0.25      0.34      2931\n",
      "           2       0.00      0.00      0.00       660\n",
      "           3       0.00      0.00      0.00       381\n",
      "           4       0.00      0.00      0.00       234\n",
      "\n",
      "    accuracy                           0.86     28425\n",
      "   macro avg       0.29      0.25      0.25     28425\n",
      "weighted avg       0.80      0.86      0.82     28425\n",
      "\n"
     ]
    }
   ],
   "source": [
    "from sklearn.tree import DecisionTreeClassifier\n",
    "\n",
    "DecisionTree = DecisionTreeClassifier(criterion=\"entropy\",random_state=2,max_depth=5)\n",
    "\n",
    "DecisionTree.fit(Xtrain,Ytrain)\n",
    "\n",
    "predicted_values = DecisionTree.predict(Xtest)\n",
    "x = metrics.accuracy_score(Ytest, predicted_values)\n",
    "acc.append(x)\n",
    "model.append('Decision Tree')\n",
    "print(\"DecisionTrees's Accuracy is: \", x*100)\n",
    "\n",
    "print(classification_report(Ytest,predicted_values))"
   ]
  },
  {
   "cell_type": "code",
   "execution_count": 25,
   "metadata": {},
   "outputs": [
    {
     "data": {
      "text/plain": [
       "array([0.86687775, 0.86627968, 0.86540018, 0.86698329, 0.85396144])"
      ]
     },
     "execution_count": 25,
     "metadata": {},
     "output_type": "execute_result"
    }
   ],
   "source": [
    "from sklearn.model_selection import cross_val_score\n",
    "# Cross validation score (Decision Tree)\n",
    "score = cross_val_score(DecisionTree, features, target,cv=5)\n",
    "score"
   ]
  },
  {
   "cell_type": "code",
   "execution_count": null,
   "metadata": {},
   "outputs": [],
   "source": []
  },
  {
   "cell_type": "code",
   "execution_count": 26,
   "metadata": {},
   "outputs": [],
   "source": [
    "#guassian naive bayes"
   ]
  },
  {
   "cell_type": "code",
   "execution_count": 27,
   "metadata": {},
   "outputs": [
    {
     "name": "stdout",
     "output_type": "stream",
     "text": [
      "Naive Bayes's Accuracy is:  0.8520316622691293\n",
      "              precision    recall  f1-score   support\n",
      "\n",
      "           0       0.85      1.00      0.92     24219\n",
      "           1       0.00      0.00      0.00      2931\n",
      "           2       0.00      0.00      0.00       660\n",
      "           3       0.00      0.00      0.00       381\n",
      "           4       0.00      0.00      0.00       234\n",
      "\n",
      "    accuracy                           0.85     28425\n",
      "   macro avg       0.17      0.20      0.18     28425\n",
      "weighted avg       0.73      0.85      0.78     28425\n",
      "\n"
     ]
    },
    {
     "name": "stderr",
     "output_type": "stream",
     "text": [
      "C:\\Users\\Admin\\Anaconda3\\envs\\leaf_disease\\lib\\site-packages\\sklearn\\metrics\\_classification.py:1221: UndefinedMetricWarning: Precision and F-score are ill-defined and being set to 0.0 in labels with no predicted samples. Use `zero_division` parameter to control this behavior.\n",
      "  _warn_prf(average, modifier, msg_start, len(result))\n"
     ]
    }
   ],
   "source": [
    "from sklearn.naive_bayes import GaussianNB\n",
    "\n",
    "NaiveBayes = GaussianNB()\n",
    "\n",
    "NaiveBayes.fit(Xtrain,Ytrain)\n",
    "\n",
    "predicted_values = NaiveBayes.predict(Xtest)\n",
    "x = metrics.accuracy_score(Ytest, predicted_values)\n",
    "acc.append(x)\n",
    "model.append('Naive Bayes')\n",
    "print(\"Naive Bayes's Accuracy is: \", x)\n",
    "\n",
    "print(classification_report(Ytest,predicted_values))"
   ]
  },
  {
   "cell_type": "code",
   "execution_count": 28,
   "metadata": {},
   "outputs": [
    {
     "data": {
      "text/plain": [
       "array([0.85551451, 0.85551451, 0.85551451, 0.85547933, 0.85550943])"
      ]
     },
     "execution_count": 28,
     "metadata": {},
     "output_type": "execute_result"
    }
   ],
   "source": [
    "# Cross validation score (NaiveBayes)\n",
    "score = cross_val_score(NaiveBayes,features,target,cv=5)\n",
    "score"
   ]
  },
  {
   "cell_type": "code",
   "execution_count": null,
   "metadata": {},
   "outputs": [],
   "source": []
  },
  {
   "cell_type": "code",
   "execution_count": 29,
   "metadata": {},
   "outputs": [],
   "source": [
    "#SVM"
   ]
  },
  {
   "cell_type": "code",
   "execution_count": null,
   "metadata": {},
   "outputs": [],
   "source": [
    "from sklearn.svm import SVC\n",
    "# data normalization with sklearn\n",
    "from sklearn.preprocessing import MinMaxScaler\n",
    "# fit scaler on training data\n",
    "norm = MinMaxScaler().fit(Xtrain)\n",
    "X_train_norm = norm.transform(Xtrain)\n",
    "# transform testing dataabs\n",
    "X_test_norm = norm.transform(Xtest)\n",
    "SVM = SVC(kernel='poly', degree=3, C=1)\n",
    "SVM.fit(X_train_norm,Ytrain)\n",
    "predicted_values = SVM.predict(X_test_norm)\n",
    "x = metrics.accuracy_score(Ytest, predicted_values)\n",
    "acc.append(x)\n",
    "model.append('SVM')\n",
    "print(\"SVM's Accuracy is: \", x)\n",
    "\n",
    "print(classification_report(Ytest,predicted_values))"
   ]
  },
  {
   "cell_type": "code",
   "execution_count": null,
   "metadata": {},
   "outputs": [],
   "source": [
    "# Cross validation score (SVM)\n",
    "score = cross_val_score(SVM,features,target,cv=5)\n",
    "score"
   ]
  },
  {
   "cell_type": "code",
   "execution_count": null,
   "metadata": {},
   "outputs": [],
   "source": []
  },
  {
   "cell_type": "code",
   "execution_count": 70,
   "metadata": {},
   "outputs": [],
   "source": [
    "#Logistic Regression"
   ]
  },
  {
   "cell_type": "code",
   "execution_count": 29,
   "metadata": {},
   "outputs": [
    {
     "ename": "AttributeError",
     "evalue": "'str' object has no attribute 'decode'",
     "output_type": "error",
     "traceback": [
      "\u001b[1;31m---------------------------------------------------------------------------\u001b[0m",
      "\u001b[1;31mAttributeError\u001b[0m                            Traceback (most recent call last)",
      "\u001b[1;32m~\\AppData\\Local\\Temp/ipykernel_4968/2789532815.py\u001b[0m in \u001b[0;36m<module>\u001b[1;34m\u001b[0m\n\u001b[0;32m      3\u001b[0m \u001b[0mLogReg\u001b[0m \u001b[1;33m=\u001b[0m \u001b[0mLogisticRegression\u001b[0m\u001b[1;33m(\u001b[0m\u001b[0mrandom_state\u001b[0m\u001b[1;33m=\u001b[0m\u001b[1;36m2\u001b[0m\u001b[1;33m)\u001b[0m\u001b[1;33m\u001b[0m\u001b[1;33m\u001b[0m\u001b[0m\n\u001b[0;32m      4\u001b[0m \u001b[1;33m\u001b[0m\u001b[0m\n\u001b[1;32m----> 5\u001b[1;33m \u001b[0mLogReg\u001b[0m\u001b[1;33m.\u001b[0m\u001b[0mfit\u001b[0m\u001b[1;33m(\u001b[0m\u001b[0mXtrain\u001b[0m\u001b[1;33m,\u001b[0m\u001b[0mYtrain\u001b[0m\u001b[1;33m)\u001b[0m\u001b[1;33m\u001b[0m\u001b[1;33m\u001b[0m\u001b[0m\n\u001b[0m\u001b[0;32m      6\u001b[0m \u001b[1;33m\u001b[0m\u001b[0m\n\u001b[0;32m      7\u001b[0m \u001b[0mpredicted_values\u001b[0m \u001b[1;33m=\u001b[0m \u001b[0mLogReg\u001b[0m\u001b[1;33m.\u001b[0m\u001b[0mpredict\u001b[0m\u001b[1;33m(\u001b[0m\u001b[0mXtest\u001b[0m\u001b[1;33m)\u001b[0m\u001b[1;33m\u001b[0m\u001b[1;33m\u001b[0m\u001b[0m\n",
      "\u001b[1;32m~\\Anaconda3\\envs\\leaf_disease\\lib\\site-packages\\sklearn\\linear_model\\_logistic.py\u001b[0m in \u001b[0;36mfit\u001b[1;34m(self, X, y, sample_weight)\u001b[0m\n\u001b[0;32m   1415\u001b[0m                       \u001b[0mpenalty\u001b[0m\u001b[1;33m=\u001b[0m\u001b[0mpenalty\u001b[0m\u001b[1;33m,\u001b[0m \u001b[0mmax_squared_sum\u001b[0m\u001b[1;33m=\u001b[0m\u001b[0mmax_squared_sum\u001b[0m\u001b[1;33m,\u001b[0m\u001b[1;33m\u001b[0m\u001b[1;33m\u001b[0m\u001b[0m\n\u001b[0;32m   1416\u001b[0m                       sample_weight=sample_weight)\n\u001b[1;32m-> 1417\u001b[1;33m             for class_, warm_start_coef_ in zip(classes_, warm_start_coef))\n\u001b[0m\u001b[0;32m   1418\u001b[0m \u001b[1;33m\u001b[0m\u001b[0m\n\u001b[0;32m   1419\u001b[0m         \u001b[0mfold_coefs_\u001b[0m\u001b[1;33m,\u001b[0m \u001b[0m_\u001b[0m\u001b[1;33m,\u001b[0m \u001b[0mn_iter_\u001b[0m \u001b[1;33m=\u001b[0m \u001b[0mzip\u001b[0m\u001b[1;33m(\u001b[0m\u001b[1;33m*\u001b[0m\u001b[0mfold_coefs_\u001b[0m\u001b[1;33m)\u001b[0m\u001b[1;33m\u001b[0m\u001b[1;33m\u001b[0m\u001b[0m\n",
      "\u001b[1;32m~\\Anaconda3\\envs\\leaf_disease\\lib\\site-packages\\joblib\\parallel.py\u001b[0m in \u001b[0;36m__call__\u001b[1;34m(self, iterable)\u001b[0m\n\u001b[0;32m   1041\u001b[0m             \u001b[1;31m# remaining jobs.\u001b[0m\u001b[1;33m\u001b[0m\u001b[1;33m\u001b[0m\u001b[1;33m\u001b[0m\u001b[0m\n\u001b[0;32m   1042\u001b[0m             \u001b[0mself\u001b[0m\u001b[1;33m.\u001b[0m\u001b[0m_iterating\u001b[0m \u001b[1;33m=\u001b[0m \u001b[1;32mFalse\u001b[0m\u001b[1;33m\u001b[0m\u001b[1;33m\u001b[0m\u001b[0m\n\u001b[1;32m-> 1043\u001b[1;33m             \u001b[1;32mif\u001b[0m \u001b[0mself\u001b[0m\u001b[1;33m.\u001b[0m\u001b[0mdispatch_one_batch\u001b[0m\u001b[1;33m(\u001b[0m\u001b[0miterator\u001b[0m\u001b[1;33m)\u001b[0m\u001b[1;33m:\u001b[0m\u001b[1;33m\u001b[0m\u001b[1;33m\u001b[0m\u001b[0m\n\u001b[0m\u001b[0;32m   1044\u001b[0m                 \u001b[0mself\u001b[0m\u001b[1;33m.\u001b[0m\u001b[0m_iterating\u001b[0m \u001b[1;33m=\u001b[0m \u001b[0mself\u001b[0m\u001b[1;33m.\u001b[0m\u001b[0m_original_iterator\u001b[0m \u001b[1;32mis\u001b[0m \u001b[1;32mnot\u001b[0m \u001b[1;32mNone\u001b[0m\u001b[1;33m\u001b[0m\u001b[1;33m\u001b[0m\u001b[0m\n\u001b[0;32m   1045\u001b[0m \u001b[1;33m\u001b[0m\u001b[0m\n",
      "\u001b[1;32m~\\Anaconda3\\envs\\leaf_disease\\lib\\site-packages\\joblib\\parallel.py\u001b[0m in \u001b[0;36mdispatch_one_batch\u001b[1;34m(self, iterator)\u001b[0m\n\u001b[0;32m    859\u001b[0m                 \u001b[1;32mreturn\u001b[0m \u001b[1;32mFalse\u001b[0m\u001b[1;33m\u001b[0m\u001b[1;33m\u001b[0m\u001b[0m\n\u001b[0;32m    860\u001b[0m             \u001b[1;32melse\u001b[0m\u001b[1;33m:\u001b[0m\u001b[1;33m\u001b[0m\u001b[1;33m\u001b[0m\u001b[0m\n\u001b[1;32m--> 861\u001b[1;33m                 \u001b[0mself\u001b[0m\u001b[1;33m.\u001b[0m\u001b[0m_dispatch\u001b[0m\u001b[1;33m(\u001b[0m\u001b[0mtasks\u001b[0m\u001b[1;33m)\u001b[0m\u001b[1;33m\u001b[0m\u001b[1;33m\u001b[0m\u001b[0m\n\u001b[0m\u001b[0;32m    862\u001b[0m                 \u001b[1;32mreturn\u001b[0m \u001b[1;32mTrue\u001b[0m\u001b[1;33m\u001b[0m\u001b[1;33m\u001b[0m\u001b[0m\n\u001b[0;32m    863\u001b[0m \u001b[1;33m\u001b[0m\u001b[0m\n",
      "\u001b[1;32m~\\Anaconda3\\envs\\leaf_disease\\lib\\site-packages\\joblib\\parallel.py\u001b[0m in \u001b[0;36m_dispatch\u001b[1;34m(self, batch)\u001b[0m\n\u001b[0;32m    777\u001b[0m         \u001b[1;32mwith\u001b[0m \u001b[0mself\u001b[0m\u001b[1;33m.\u001b[0m\u001b[0m_lock\u001b[0m\u001b[1;33m:\u001b[0m\u001b[1;33m\u001b[0m\u001b[1;33m\u001b[0m\u001b[0m\n\u001b[0;32m    778\u001b[0m             \u001b[0mjob_idx\u001b[0m \u001b[1;33m=\u001b[0m \u001b[0mlen\u001b[0m\u001b[1;33m(\u001b[0m\u001b[0mself\u001b[0m\u001b[1;33m.\u001b[0m\u001b[0m_jobs\u001b[0m\u001b[1;33m)\u001b[0m\u001b[1;33m\u001b[0m\u001b[1;33m\u001b[0m\u001b[0m\n\u001b[1;32m--> 779\u001b[1;33m             \u001b[0mjob\u001b[0m \u001b[1;33m=\u001b[0m \u001b[0mself\u001b[0m\u001b[1;33m.\u001b[0m\u001b[0m_backend\u001b[0m\u001b[1;33m.\u001b[0m\u001b[0mapply_async\u001b[0m\u001b[1;33m(\u001b[0m\u001b[0mbatch\u001b[0m\u001b[1;33m,\u001b[0m \u001b[0mcallback\u001b[0m\u001b[1;33m=\u001b[0m\u001b[0mcb\u001b[0m\u001b[1;33m)\u001b[0m\u001b[1;33m\u001b[0m\u001b[1;33m\u001b[0m\u001b[0m\n\u001b[0m\u001b[0;32m    780\u001b[0m             \u001b[1;31m# A job can complete so quickly than its callback is\u001b[0m\u001b[1;33m\u001b[0m\u001b[1;33m\u001b[0m\u001b[1;33m\u001b[0m\u001b[0m\n\u001b[0;32m    781\u001b[0m             \u001b[1;31m# called before we get here, causing self._jobs to\u001b[0m\u001b[1;33m\u001b[0m\u001b[1;33m\u001b[0m\u001b[1;33m\u001b[0m\u001b[0m\n",
      "\u001b[1;32m~\\Anaconda3\\envs\\leaf_disease\\lib\\site-packages\\joblib\\_parallel_backends.py\u001b[0m in \u001b[0;36mapply_async\u001b[1;34m(self, func, callback)\u001b[0m\n\u001b[0;32m    206\u001b[0m     \u001b[1;32mdef\u001b[0m \u001b[0mapply_async\u001b[0m\u001b[1;33m(\u001b[0m\u001b[0mself\u001b[0m\u001b[1;33m,\u001b[0m \u001b[0mfunc\u001b[0m\u001b[1;33m,\u001b[0m \u001b[0mcallback\u001b[0m\u001b[1;33m=\u001b[0m\u001b[1;32mNone\u001b[0m\u001b[1;33m)\u001b[0m\u001b[1;33m:\u001b[0m\u001b[1;33m\u001b[0m\u001b[1;33m\u001b[0m\u001b[0m\n\u001b[0;32m    207\u001b[0m         \u001b[1;34m\"\"\"Schedule a func to be run\"\"\"\u001b[0m\u001b[1;33m\u001b[0m\u001b[1;33m\u001b[0m\u001b[0m\n\u001b[1;32m--> 208\u001b[1;33m         \u001b[0mresult\u001b[0m \u001b[1;33m=\u001b[0m \u001b[0mImmediateResult\u001b[0m\u001b[1;33m(\u001b[0m\u001b[0mfunc\u001b[0m\u001b[1;33m)\u001b[0m\u001b[1;33m\u001b[0m\u001b[1;33m\u001b[0m\u001b[0m\n\u001b[0m\u001b[0;32m    209\u001b[0m         \u001b[1;32mif\u001b[0m \u001b[0mcallback\u001b[0m\u001b[1;33m:\u001b[0m\u001b[1;33m\u001b[0m\u001b[1;33m\u001b[0m\u001b[0m\n\u001b[0;32m    210\u001b[0m             \u001b[0mcallback\u001b[0m\u001b[1;33m(\u001b[0m\u001b[0mresult\u001b[0m\u001b[1;33m)\u001b[0m\u001b[1;33m\u001b[0m\u001b[1;33m\u001b[0m\u001b[0m\n",
      "\u001b[1;32m~\\Anaconda3\\envs\\leaf_disease\\lib\\site-packages\\joblib\\_parallel_backends.py\u001b[0m in \u001b[0;36m__init__\u001b[1;34m(self, batch)\u001b[0m\n\u001b[0;32m    570\u001b[0m         \u001b[1;31m# Don't delay the application, to avoid keeping the input\u001b[0m\u001b[1;33m\u001b[0m\u001b[1;33m\u001b[0m\u001b[1;33m\u001b[0m\u001b[0m\n\u001b[0;32m    571\u001b[0m         \u001b[1;31m# arguments in memory\u001b[0m\u001b[1;33m\u001b[0m\u001b[1;33m\u001b[0m\u001b[1;33m\u001b[0m\u001b[0m\n\u001b[1;32m--> 572\u001b[1;33m         \u001b[0mself\u001b[0m\u001b[1;33m.\u001b[0m\u001b[0mresults\u001b[0m \u001b[1;33m=\u001b[0m \u001b[0mbatch\u001b[0m\u001b[1;33m(\u001b[0m\u001b[1;33m)\u001b[0m\u001b[1;33m\u001b[0m\u001b[1;33m\u001b[0m\u001b[0m\n\u001b[0m\u001b[0;32m    573\u001b[0m \u001b[1;33m\u001b[0m\u001b[0m\n\u001b[0;32m    574\u001b[0m     \u001b[1;32mdef\u001b[0m \u001b[0mget\u001b[0m\u001b[1;33m(\u001b[0m\u001b[0mself\u001b[0m\u001b[1;33m)\u001b[0m\u001b[1;33m:\u001b[0m\u001b[1;33m\u001b[0m\u001b[1;33m\u001b[0m\u001b[0m\n",
      "\u001b[1;32m~\\Anaconda3\\envs\\leaf_disease\\lib\\site-packages\\joblib\\parallel.py\u001b[0m in \u001b[0;36m__call__\u001b[1;34m(self)\u001b[0m\n\u001b[0;32m    261\u001b[0m         \u001b[1;32mwith\u001b[0m \u001b[0mparallel_backend\u001b[0m\u001b[1;33m(\u001b[0m\u001b[0mself\u001b[0m\u001b[1;33m.\u001b[0m\u001b[0m_backend\u001b[0m\u001b[1;33m,\u001b[0m \u001b[0mn_jobs\u001b[0m\u001b[1;33m=\u001b[0m\u001b[0mself\u001b[0m\u001b[1;33m.\u001b[0m\u001b[0m_n_jobs\u001b[0m\u001b[1;33m)\u001b[0m\u001b[1;33m:\u001b[0m\u001b[1;33m\u001b[0m\u001b[1;33m\u001b[0m\u001b[0m\n\u001b[0;32m    262\u001b[0m             return [func(*args, **kwargs)\n\u001b[1;32m--> 263\u001b[1;33m                     for func, args, kwargs in self.items]\n\u001b[0m\u001b[0;32m    264\u001b[0m \u001b[1;33m\u001b[0m\u001b[0m\n\u001b[0;32m    265\u001b[0m     \u001b[1;32mdef\u001b[0m \u001b[0m__reduce__\u001b[0m\u001b[1;33m(\u001b[0m\u001b[0mself\u001b[0m\u001b[1;33m)\u001b[0m\u001b[1;33m:\u001b[0m\u001b[1;33m\u001b[0m\u001b[1;33m\u001b[0m\u001b[0m\n",
      "\u001b[1;32m~\\Anaconda3\\envs\\leaf_disease\\lib\\site-packages\\joblib\\parallel.py\u001b[0m in \u001b[0;36m<listcomp>\u001b[1;34m(.0)\u001b[0m\n\u001b[0;32m    261\u001b[0m         \u001b[1;32mwith\u001b[0m \u001b[0mparallel_backend\u001b[0m\u001b[1;33m(\u001b[0m\u001b[0mself\u001b[0m\u001b[1;33m.\u001b[0m\u001b[0m_backend\u001b[0m\u001b[1;33m,\u001b[0m \u001b[0mn_jobs\u001b[0m\u001b[1;33m=\u001b[0m\u001b[0mself\u001b[0m\u001b[1;33m.\u001b[0m\u001b[0m_n_jobs\u001b[0m\u001b[1;33m)\u001b[0m\u001b[1;33m:\u001b[0m\u001b[1;33m\u001b[0m\u001b[1;33m\u001b[0m\u001b[0m\n\u001b[0;32m    262\u001b[0m             return [func(*args, **kwargs)\n\u001b[1;32m--> 263\u001b[1;33m                     for func, args, kwargs in self.items]\n\u001b[0m\u001b[0;32m    264\u001b[0m \u001b[1;33m\u001b[0m\u001b[0m\n\u001b[0;32m    265\u001b[0m     \u001b[1;32mdef\u001b[0m \u001b[0m__reduce__\u001b[0m\u001b[1;33m(\u001b[0m\u001b[0mself\u001b[0m\u001b[1;33m)\u001b[0m\u001b[1;33m:\u001b[0m\u001b[1;33m\u001b[0m\u001b[1;33m\u001b[0m\u001b[0m\n",
      "\u001b[1;32m~\\Anaconda3\\envs\\leaf_disease\\lib\\site-packages\\sklearn\\linear_model\\_logistic.py\u001b[0m in \u001b[0;36m_logistic_regression_path\u001b[1;34m(X, y, pos_class, Cs, fit_intercept, max_iter, tol, verbose, solver, coef, class_weight, dual, penalty, intercept_scaling, multi_class, random_state, check_input, max_squared_sum, sample_weight, l1_ratio)\u001b[0m\n\u001b[0;32m    762\u001b[0m             n_iter_i = _check_optimize_result(\n\u001b[0;32m    763\u001b[0m                 \u001b[0msolver\u001b[0m\u001b[1;33m,\u001b[0m \u001b[0mopt_res\u001b[0m\u001b[1;33m,\u001b[0m \u001b[0mmax_iter\u001b[0m\u001b[1;33m,\u001b[0m\u001b[1;33m\u001b[0m\u001b[1;33m\u001b[0m\u001b[0m\n\u001b[1;32m--> 764\u001b[1;33m                 extra_warning_msg=_LOGISTIC_SOLVER_CONVERGENCE_MSG)\n\u001b[0m\u001b[0;32m    765\u001b[0m             \u001b[0mw0\u001b[0m\u001b[1;33m,\u001b[0m \u001b[0mloss\u001b[0m \u001b[1;33m=\u001b[0m \u001b[0mopt_res\u001b[0m\u001b[1;33m.\u001b[0m\u001b[0mx\u001b[0m\u001b[1;33m,\u001b[0m \u001b[0mopt_res\u001b[0m\u001b[1;33m.\u001b[0m\u001b[0mfun\u001b[0m\u001b[1;33m\u001b[0m\u001b[1;33m\u001b[0m\u001b[0m\n\u001b[0;32m    766\u001b[0m         \u001b[1;32melif\u001b[0m \u001b[0msolver\u001b[0m \u001b[1;33m==\u001b[0m \u001b[1;34m'newton-cg'\u001b[0m\u001b[1;33m:\u001b[0m\u001b[1;33m\u001b[0m\u001b[1;33m\u001b[0m\u001b[0m\n",
      "\u001b[1;32m~\\Anaconda3\\envs\\leaf_disease\\lib\\site-packages\\sklearn\\utils\\optimize.py\u001b[0m in \u001b[0;36m_check_optimize_result\u001b[1;34m(solver, result, max_iter, extra_warning_msg)\u001b[0m\n\u001b[0;32m    241\u001b[0m                 \u001b[1;34m\"    https://scikit-learn.org/stable/modules/\"\u001b[0m\u001b[1;33m\u001b[0m\u001b[1;33m\u001b[0m\u001b[0m\n\u001b[0;32m    242\u001b[0m                 \u001b[1;34m\"preprocessing.html\"\u001b[0m\u001b[1;33m\u001b[0m\u001b[1;33m\u001b[0m\u001b[0m\n\u001b[1;32m--> 243\u001b[1;33m             ).format(solver, result.status, result.message.decode(\"latin1\"))\n\u001b[0m\u001b[0;32m    244\u001b[0m             \u001b[1;32mif\u001b[0m \u001b[0mextra_warning_msg\u001b[0m \u001b[1;32mis\u001b[0m \u001b[1;32mnot\u001b[0m \u001b[1;32mNone\u001b[0m\u001b[1;33m:\u001b[0m\u001b[1;33m\u001b[0m\u001b[1;33m\u001b[0m\u001b[0m\n\u001b[0;32m    245\u001b[0m                 \u001b[0mwarning_msg\u001b[0m \u001b[1;33m+=\u001b[0m \u001b[1;34m\"\\n\"\u001b[0m \u001b[1;33m+\u001b[0m \u001b[0mextra_warning_msg\u001b[0m\u001b[1;33m\u001b[0m\u001b[1;33m\u001b[0m\u001b[0m\n",
      "\u001b[1;31mAttributeError\u001b[0m: 'str' object has no attribute 'decode'"
     ]
    }
   ],
   "source": [
    "from sklearn.linear_model import LogisticRegression\n",
    "\n",
    "LogReg = LogisticRegression(random_state=2)\n",
    "\n",
    "LogReg.fit(Xtrain,Ytrain)\n",
    "\n",
    "predicted_values = LogReg.predict(Xtest)\n",
    "\n",
    "x = metrics.accuracy_score(Ytest, predicted_values)\n",
    "acc.append(x)\n",
    "model.append('Logistic Regression')\n",
    "print(\"Logistic Regression's Accuracy is: \", x)\n",
    "\n",
    "print(classification_report(Ytest,predicted_values))"
   ]
  },
  {
   "cell_type": "code",
   "execution_count": null,
   "metadata": {},
   "outputs": [],
   "source": [
    "# Cross validation score (Logistic Regression)\n",
    "score = cross_val_score(LogReg,features,target,cv=5)\n",
    "score"
   ]
  },
  {
   "cell_type": "code",
   "execution_count": null,
   "metadata": {},
   "outputs": [],
   "source": []
  },
  {
   "cell_type": "code",
   "execution_count": null,
   "metadata": {},
   "outputs": [],
   "source": [
    "#random Forest"
   ]
  },
  {
   "cell_type": "code",
   "execution_count": 30,
   "metadata": {},
   "outputs": [
    {
     "name": "stdout",
     "output_type": "stream",
     "text": [
      "RF's Accuracy is:  0.8498856640281442\n",
      "              precision    recall  f1-score   support\n",
      "\n",
      "           0       0.91      0.94      0.93     24219\n",
      "           1       0.46      0.47      0.46      2931\n",
      "           2       0.12      0.05      0.07       660\n",
      "           3       0.07      0.02      0.04       381\n",
      "           4       0.04      0.02      0.02       234\n",
      "\n",
      "    accuracy                           0.85     28425\n",
      "   macro avg       0.32      0.30      0.30     28425\n",
      "weighted avg       0.83      0.85      0.84     28425\n",
      "\n"
     ]
    }
   ],
   "source": [
    "from sklearn.ensemble import RandomForestClassifier\n",
    "\n",
    "RF = RandomForestClassifier(n_estimators=20, random_state=0)\n",
    "RF.fit(Xtrain,Ytrain)\n",
    "\n",
    "predicted_values = RF.predict(Xtest)\n",
    "\n",
    "x = metrics.accuracy_score(Ytest, predicted_values)\n",
    "acc.append(x)\n",
    "model.append('RF')\n",
    "print(\"RF's Accuracy is: \", x)\n",
    "\n",
    "print(classification_report(Ytest,predicted_values))"
   ]
  },
  {
   "cell_type": "code",
   "execution_count": 31,
   "metadata": {},
   "outputs": [
    {
     "data": {
      "text/plain": [
       "array([0.86174142, 0.85467018, 0.85854002, 0.85804749, 0.8323248 ])"
      ]
     },
     "execution_count": 31,
     "metadata": {},
     "output_type": "execute_result"
    }
   ],
   "source": [
    "# Cross validation score (Random Forest)\n",
    "score = cross_val_score(RF,features,target,cv=5)\n",
    "score"
   ]
  },
  {
   "cell_type": "code",
   "execution_count": null,
   "metadata": {},
   "outputs": [],
   "source": []
  },
  {
   "cell_type": "code",
   "execution_count": 32,
   "metadata": {},
   "outputs": [],
   "source": [
    "#xgboosty"
   ]
  },
  {
   "cell_type": "code",
   "execution_count": 33,
   "metadata": {},
   "outputs": [
    {
     "name": "stderr",
     "output_type": "stream",
     "text": [
      "C:\\Users\\Admin\\Anaconda3\\envs\\leaf_disease\\lib\\site-packages\\xgboost\\sklearn.py:1224: UserWarning: The use of label encoder in XGBClassifier is deprecated and will be removed in a future release. To remove this warning, do the following: 1) Pass option use_label_encoder=False when constructing XGBClassifier object; and 2) Encode your labels (y) as integers starting with 0, i.e. 0, 1, 2, ..., [num_class - 1].\n",
      "  warnings.warn(label_encoder_deprecation_msg, UserWarning)\n"
     ]
    },
    {
     "name": "stdout",
     "output_type": "stream",
     "text": [
      "[15:45:42] WARNING: C:/Users/Administrator/workspace/xgboost-win64_release_1.5.1/src/learner.cc:1115: Starting in XGBoost 1.3.0, the default evaluation metric used with the objective 'multi:softprob' was changed from 'merror' to 'mlogloss'. Explicitly set eval_metric if you'd like to restore the old behavior.\n",
      "XGBoost's Accuracy is:  0.8699032541776605\n",
      "              precision    recall  f1-score   support\n",
      "\n",
      "           0       0.90      0.97      0.93     24219\n",
      "           1       0.56      0.42      0.48      2931\n",
      "           2       0.07      0.00      0.00       660\n",
      "           3       0.00      0.00      0.00       381\n",
      "           4       0.00      0.00      0.00       234\n",
      "\n",
      "    accuracy                           0.87     28425\n",
      "   macro avg       0.31      0.28      0.28     28425\n",
      "weighted avg       0.82      0.87      0.84     28425\n",
      "\n"
     ]
    }
   ],
   "source": [
    "import xgboost as xgb\n",
    "XB = xgb.XGBClassifier()\n",
    "XB.fit(Xtrain,Ytrain)\n",
    "\n",
    "predicted_values = XB.predict(Xtest)\n",
    "\n",
    "x = metrics.accuracy_score(Ytest, predicted_values)\n",
    "acc.append(x)\n",
    "model.append('XGBoost')\n",
    "print(\"XGBoost's Accuracy is: \", x)\n",
    "\n",
    "print(classification_report(Ytest,predicted_values))"
   ]
  },
  {
   "cell_type": "code",
   "execution_count": 78,
   "metadata": {},
   "outputs": [
    {
     "name": "stdout",
     "output_type": "stream",
     "text": [
      "[13:12:52] WARNING: ../src/learner.cc:1095: Starting in XGBoost 1.3.0, the default evaluation metric used with the objective 'binary:logistic' was changed from 'error' to 'logloss'. Explicitly set eval_metric if you'd like to restore the old behavior.\n",
      "[13:12:53] WARNING: ../src/learner.cc:1095: Starting in XGBoost 1.3.0, the default evaluation metric used with the objective 'binary:logistic' was changed from 'error' to 'logloss'. Explicitly set eval_metric if you'd like to restore the old behavior.\n",
      "[13:12:54] WARNING: ../src/learner.cc:1095: Starting in XGBoost 1.3.0, the default evaluation metric used with the objective 'binary:logistic' was changed from 'error' to 'logloss'. Explicitly set eval_metric if you'd like to restore the old behavior.\n",
      "[13:12:55] WARNING: ../src/learner.cc:1095: Starting in XGBoost 1.3.0, the default evaluation metric used with the objective 'binary:logistic' was changed from 'error' to 'logloss'. Explicitly set eval_metric if you'd like to restore the old behavior.\n",
      "[13:12:56] WARNING: ../src/learner.cc:1095: Starting in XGBoost 1.3.0, the default evaluation metric used with the objective 'binary:logistic' was changed from 'error' to 'logloss'. Explicitly set eval_metric if you'd like to restore the old behavior.\n"
     ]
    },
    {
     "data": {
      "text/plain": [
       "array([0.78136364, 0.79227273, 0.59409091, 0.43772727, 0.43747158])"
      ]
     },
     "execution_count": 78,
     "metadata": {},
     "output_type": "execute_result"
    }
   ],
   "source": [
    "# Cross validation score (XGBoost)\n",
    "score = cross_val_score(XB,features,target,cv=5)\n",
    "score"
   ]
  },
  {
   "cell_type": "code",
   "execution_count": 30,
   "metadata": {},
   "outputs": [],
   "source": [
    "import pickle"
   ]
  },
  {
   "cell_type": "code",
   "execution_count": 31,
   "metadata": {},
   "outputs": [],
   "source": [
    "pickle.dump(regr, open('model.pkl', 'wb'))"
   ]
  },
  {
   "cell_type": "code",
   "execution_count": 32,
   "metadata": {},
   "outputs": [
    {
     "data": {
      "text/plain": [
       "array([0.23578737])"
      ]
     },
     "execution_count": 32,
     "metadata": {},
     "output_type": "execute_result"
    }
   ],
   "source": [
    "pickled_model = pickle.load(open('model.pkl', 'rb'))\n",
    "pickled_model.predict(Xtest[1:2])"
   ]
  },
  {
   "cell_type": "code",
   "execution_count": 84,
   "metadata": {},
   "outputs": [
    {
     "data": {
      "text/html": [
       "<div>\n",
       "<style scoped>\n",
       "    .dataframe tbody tr th:only-of-type {\n",
       "        vertical-align: middle;\n",
       "    }\n",
       "\n",
       "    .dataframe tbody tr th {\n",
       "        vertical-align: top;\n",
       "    }\n",
       "\n",
       "    .dataframe thead th {\n",
       "        text-align: right;\n",
       "    }\n",
       "</style>\n",
       "<table border=\"1\" class=\"dataframe\">\n",
       "  <thead>\n",
       "    <tr style=\"text-align: right;\">\n",
       "      <th></th>\n",
       "      <th>tiploc</th>\n",
       "      <th>dst_loc</th>\n",
       "      <th>Train NO.</th>\n",
       "      <th>DAY</th>\n",
       "    </tr>\n",
       "  </thead>\n",
       "  <tbody>\n",
       "    <tr>\n",
       "      <th>64303</th>\n",
       "      <td>27</td>\n",
       "      <td>25</td>\n",
       "      <td>6</td>\n",
       "      <td>4</td>\n",
       "    </tr>\n",
       "  </tbody>\n",
       "</table>\n",
       "</div>"
      ],
      "text/plain": [
       "       tiploc  dst_loc  Train NO.  DAY\n",
       "64303      27       25          6    4"
      ]
     },
     "execution_count": 84,
     "metadata": {},
     "output_type": "execute_result"
    }
   ],
   "source": [
    "Xtest[100:101]\n",
    "#pickled_model.predict(Xtest[100:101])"
   ]
  },
  {
   "cell_type": "code",
   "execution_count": 105,
   "metadata": {},
   "outputs": [],
   "source": [
    "#predicting delay on user data"
   ]
  },
  {
   "cell_type": "code",
   "execution_count": 122,
   "metadata": {},
   "outputs": [
    {
     "name": "stderr",
     "output_type": "stream",
     "text": [
      "C:\\Users\\Admin\\Anaconda3\\envs\\leaf_disease\\lib\\site-packages\\ipykernel_launcher.py:2: SettingWithCopyWarning: \n",
      "A value is trying to be set on a copy of a slice from a DataFrame.\n",
      "Try using .loc[row_indexer,col_indexer] = value instead\n",
      "\n",
      "See the caveats in the documentation: https://pandas.pydata.org/pandas-docs/stable/user_guide/indexing.html#returning-a-view-versus-a-copy\n",
      "  \n",
      "C:\\Users\\Admin\\Anaconda3\\envs\\leaf_disease\\lib\\site-packages\\ipykernel_launcher.py:3: SettingWithCopyWarning: \n",
      "A value is trying to be set on a copy of a slice from a DataFrame.\n",
      "Try using .loc[row_indexer,col_indexer] = value instead\n",
      "\n",
      "See the caveats in the documentation: https://pandas.pydata.org/pandas-docs/stable/user_guide/indexing.html#returning-a-view-versus-a-copy\n",
      "  This is separate from the ipykernel package so we can avoid doing imports until\n",
      "C:\\Users\\Admin\\Anaconda3\\envs\\leaf_disease\\lib\\site-packages\\ipykernel_launcher.py:4: SettingWithCopyWarning: \n",
      "A value is trying to be set on a copy of a slice from a DataFrame.\n",
      "Try using .loc[row_indexer,col_indexer] = value instead\n",
      "\n",
      "See the caveats in the documentation: https://pandas.pydata.org/pandas-docs/stable/user_guide/indexing.html#returning-a-view-versus-a-copy\n",
      "  after removing the cwd from sys.path.\n",
      "C:\\Users\\Admin\\Anaconda3\\envs\\leaf_disease\\lib\\site-packages\\ipykernel_launcher.py:5: SettingWithCopyWarning: \n",
      "A value is trying to be set on a copy of a slice from a DataFrame.\n",
      "Try using .loc[row_indexer,col_indexer] = value instead\n",
      "\n",
      "See the caveats in the documentation: https://pandas.pydata.org/pandas-docs/stable/user_guide/indexing.html#returning-a-view-versus-a-copy\n",
      "  \"\"\"\n"
     ]
    }
   ],
   "source": [
    "#12\t88\t197\t5\n",
    "Xtest[:1]['tiploc']=1\n",
    "Xtest[:1]['dst_loc']=1\n",
    "Xtest[:1]['Train NO.']=112\n",
    "Xtest[:1]['DAY']=5"
   ]
  },
  {
   "cell_type": "code",
   "execution_count": 128,
   "metadata": {},
   "outputs": [
    {
     "data": {
      "text/html": [
       "<div>\n",
       "<style scoped>\n",
       "    .dataframe tbody tr th:only-of-type {\n",
       "        vertical-align: middle;\n",
       "    }\n",
       "\n",
       "    .dataframe tbody tr th {\n",
       "        vertical-align: top;\n",
       "    }\n",
       "\n",
       "    .dataframe thead th {\n",
       "        text-align: right;\n",
       "    }\n",
       "</style>\n",
       "<table border=\"1\" class=\"dataframe\">\n",
       "  <thead>\n",
       "    <tr style=\"text-align: right;\">\n",
       "      <th></th>\n",
       "      <th>tiploc</th>\n",
       "      <th>dst_loc</th>\n",
       "      <th>Train NO.</th>\n",
       "      <th>DAY</th>\n",
       "    </tr>\n",
       "  </thead>\n",
       "  <tbody>\n",
       "    <tr>\n",
       "      <th>101515</th>\n",
       "      <td>1</td>\n",
       "      <td>1</td>\n",
       "      <td>112</td>\n",
       "      <td>5</td>\n",
       "    </tr>\n",
       "    <tr>\n",
       "      <th>58685</th>\n",
       "      <td>32</td>\n",
       "      <td>60</td>\n",
       "      <td>29</td>\n",
       "      <td>2</td>\n",
       "    </tr>\n",
       "    <tr>\n",
       "      <th>94512</th>\n",
       "      <td>66</td>\n",
       "      <td>9</td>\n",
       "      <td>205</td>\n",
       "      <td>1</td>\n",
       "    </tr>\n",
       "    <tr>\n",
       "      <th>68079</th>\n",
       "      <td>80</td>\n",
       "      <td>61</td>\n",
       "      <td>170</td>\n",
       "      <td>2</td>\n",
       "    </tr>\n",
       "    <tr>\n",
       "      <th>12178</th>\n",
       "      <td>39</td>\n",
       "      <td>7</td>\n",
       "      <td>39</td>\n",
       "      <td>3</td>\n",
       "    </tr>\n",
       "    <tr>\n",
       "      <th>135285</th>\n",
       "      <td>27</td>\n",
       "      <td>25</td>\n",
       "      <td>181</td>\n",
       "      <td>2</td>\n",
       "    </tr>\n",
       "    <tr>\n",
       "      <th>8291</th>\n",
       "      <td>27</td>\n",
       "      <td>25</td>\n",
       "      <td>1</td>\n",
       "      <td>2</td>\n",
       "    </tr>\n",
       "  </tbody>\n",
       "</table>\n",
       "</div>"
      ],
      "text/plain": [
       "        tiploc  dst_loc  Train NO.  DAY\n",
       "101515       1        1        112    5\n",
       "58685       32       60         29    2\n",
       "94512       66        9        205    1\n",
       "68079       80       61        170    2\n",
       "12178       39        7         39    3\n",
       "135285      27       25        181    2\n",
       "8291        27       25          1    2"
      ]
     },
     "execution_count": 128,
     "metadata": {},
     "output_type": "execute_result"
    }
   ],
   "source": [
    "Xtest[:7]"
   ]
  },
  {
   "cell_type": "code",
   "execution_count": 131,
   "metadata": {},
   "outputs": [
    {
     "data": {
      "text/plain": [
       "0"
      ]
     },
     "execution_count": 131,
     "metadata": {},
     "output_type": "execute_result"
    }
   ],
   "source": [
    "pickled_model.predict(Xtest[:1])[0]"
   ]
  },
  {
   "cell_type": "code",
   "execution_count": 132,
   "metadata": {},
   "outputs": [],
   "source": [
    "Xtest[:7].to_csv('user_pred.csv')"
   ]
  },
  {
   "cell_type": "code",
   "execution_count": null,
   "metadata": {},
   "outputs": [],
   "source": []
  }
 ],
 "metadata": {
  "accelerator": "GPU",
  "colab": {
   "collapsed_sections": [],
   "name": "FinalBennetProject.ipynb",
   "provenance": [],
   "toc_visible": true
  },
  "kernelspec": {
   "display_name": "leaf_disease",
   "language": "python",
   "name": "leaf_disease"
  },
  "language_info": {
   "codemirror_mode": {
    "name": "ipython",
    "version": 3
   },
   "file_extension": ".py",
   "mimetype": "text/x-python",
   "name": "python",
   "nbconvert_exporter": "python",
   "pygments_lexer": "ipython3",
   "version": "3.7.11"
  }
 },
 "nbformat": 4,
 "nbformat_minor": 1
}
